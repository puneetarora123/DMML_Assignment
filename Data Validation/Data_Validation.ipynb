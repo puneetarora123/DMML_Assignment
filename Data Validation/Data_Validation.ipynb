{
 "cells": [
  {
   "cell_type": "markdown",
   "metadata": {
    "application/vnd.databricks.v1+cell": {
     "cellMetadata": {},
     "inputWidgets": {},
     "nuid": "ec6c3f5e-1e1d-49f3-ab02-179c92eb7c18",
     "showTitle": false,
     "tableResultSettingsMap": {},
     "title": ""
    }
   },
   "source": [
    "Automated Data Validation Script (Pandas)\n",
    "------------------------------------------------------\n",
    "- Reads dataset\n",
    "- Validates schema, datatypes, ranges, allowed values\n",
    "- Generates visuals\n",
    "- Creates a text report with issues and recommendations"
   ]
  },
  {
   "cell_type": "code",
   "execution_count": 0,
   "metadata": {
    "application/vnd.databricks.v1+cell": {
     "cellMetadata": {},
     "inputWidgets": {},
     "nuid": "b5dfddf0-1d7b-4d12-808f-1aefadc93390",
     "showTitle": false,
     "tableResultSettingsMap": {},
     "title": ""
    }
   },
   "outputs": [],
   "source": [
    "import pandas as pd\n",
    "import numpy as np\n",
    "import matplotlib.pyplot as plt\n",
    "import seaborn as sns\n",
    "from datetime import datetime\n",
    "import os"
   ]
  },
  {
   "cell_type": "code",
   "execution_count": 0,
   "metadata": {
    "application/vnd.databricks.v1+cell": {
     "cellMetadata": {},
     "inputWidgets": {},
     "nuid": "d69d5ba5-09c6-440f-80d0-ff5df0a04bb0",
     "showTitle": false,
     "tableResultSettingsMap": {},
     "title": ""
    }
   },
   "outputs": [],
   "source": [
    "# Load data\n",
    "data = pd.read_csv('github_churn_10000.csv')\n",
    "data"
   ]
  },
  {
   "cell_type": "code",
   "execution_count": 0,
   "metadata": {
    "application/vnd.databricks.v1+cell": {
     "cellMetadata": {},
     "inputWidgets": {},
     "nuid": "b7328bb9-8925-41d4-8f96-8061c9a879ad",
     "showTitle": false,
     "tableResultSettingsMap": {},
     "title": ""
    }
   },
   "outputs": [],
   "source": [
    "# Ranges for numeric columns\n",
    "numeric_ranges = {\n",
    "    \"Age\": (0, 120),\n",
    "    \"Tenure\": (0, None),\n",
    "    \"MonthlyCharges\": (0, None),\n",
    "    \"TotalCharges\": (0, None)\n",
    "}"
   ]
  },
  {
   "cell_type": "markdown",
   "metadata": {
    "application/vnd.databricks.v1+cell": {
     "cellMetadata": {},
     "inputWidgets": {},
     "nuid": "e2ec3616-a1a9-46e9-b7ff-817234228dd7",
     "showTitle": false,
     "tableResultSettingsMap": {},
     "title": ""
    }
   },
   "source": [
    "## Validation Checks"
   ]
  },
  {
   "cell_type": "code",
   "execution_count": 0,
   "metadata": {
    "application/vnd.databricks.v1+cell": {
     "cellMetadata": {},
     "inputWidgets": {},
     "nuid": "0f42d72c-1b79-4d21-afae-52dd34986284",
     "showTitle": false,
     "tableResultSettingsMap": {},
     "title": ""
    }
   },
   "outputs": [],
   "source": [
    "validation_results = []"
   ]
  },
  {
   "cell_type": "markdown",
   "metadata": {
    "application/vnd.databricks.v1+cell": {
     "cellMetadata": {},
     "inputWidgets": {},
     "nuid": "db720a12-39d5-44ff-ae68-d6733f9c4a8c",
     "showTitle": false,
     "tableResultSettingsMap": {},
     "title": ""
    }
   },
   "source": [
    "#### Missing Columns check "
   ]
  },
  {
   "cell_type": "code",
   "execution_count": 0,
   "metadata": {
    "application/vnd.databricks.v1+cell": {
     "cellMetadata": {},
     "inputWidgets": {},
     "nuid": "8ad04fab-b8ad-45c7-b3f4-31d0d04610f8",
     "showTitle": false,
     "tableResultSettingsMap": {},
     "title": ""
    }
   },
   "outputs": [],
   "source": [
    "# Expected schema\n",
    "expected_columns = [\n",
    "    \"CustomerID\", \"Age\", \"Gender\", \"Tenure\", \"MonthlyCharges\",\n",
    "    \"TotalCharges\", \"ContractType\", \"PaymentMethod\"\n",
    "]"
   ]
  },
  {
   "cell_type": "code",
   "execution_count": 0,
   "metadata": {
    "application/vnd.databricks.v1+cell": {
     "cellMetadata": {},
     "inputWidgets": {},
     "nuid": "59e23d95-8487-4de9-8bd8-7a5d4f1b7af0",
     "showTitle": false,
     "tableResultSettingsMap": {},
     "title": ""
    }
   },
   "outputs": [],
   "source": [
    "# Column presence\n",
    "missing_columns = [col for col in expected_columns if col not in data.columns]\n",
    "if missing_columns:\n",
    "    validation_results.append(f\" Missing columns: {missing_columns}\")\n",
    "else:\n",
    "    validation_results.append(\"All expected columns are present.\")\n",
    "    \n",
    "print(missing_columns)"
   ]
  },
  {
   "cell_type": "markdown",
   "metadata": {
    "application/vnd.databricks.v1+cell": {
     "cellMetadata": {},
     "inputWidgets": {},
     "nuid": "1041417c-8e0c-4cb4-9d23-26e155d775b0",
     "showTitle": false,
     "tableResultSettingsMap": {},
     "title": ""
    }
   },
   "source": [
    "#### Null values check "
   ]
  },
  {
   "cell_type": "code",
   "execution_count": 0,
   "metadata": {
    "application/vnd.databricks.v1+cell": {
     "cellMetadata": {},
     "inputWidgets": {},
     "nuid": "4d630d90-02a8-45ca-abba-3bb6c66f4b82",
     "showTitle": false,
     "tableResultSettingsMap": {},
     "title": ""
    }
   },
   "outputs": [],
   "source": [
    "null_counts = data.isnull().sum()\n",
    "null_issues = null_counts[null_counts > 0]\n",
    "if not null_issues.empty:\n",
    "    validation_results.append(f\" Null values found:\\n{null_issues}\")\n",
    "else:\n",
    "    validation_results.append(\" No null values found.\")\n",
    "\n",
    "print(null_issues)"
   ]
  },
  {
   "cell_type": "markdown",
   "metadata": {
    "application/vnd.databricks.v1+cell": {
     "cellMetadata": {},
     "inputWidgets": {},
     "nuid": "a103c28a-4e2b-4048-9a03-2c04017b8676",
     "showTitle": false,
     "tableResultSettingsMap": {},
     "title": ""
    }
   },
   "source": [
    "#### Duplicates check "
   ]
  },
  {
   "cell_type": "code",
   "execution_count": 0,
   "metadata": {
    "application/vnd.databricks.v1+cell": {
     "cellMetadata": {},
     "inputWidgets": {},
     "nuid": "db3d4906-e447-4d6d-8754-4866b75b2fb0",
     "showTitle": false,
     "tableResultSettingsMap": {},
     "title": ""
    }
   },
   "outputs": [],
   "source": [
    "dup_count = data.duplicated().sum()\n",
    "if dup_count > 0:\n",
    "    validation_results.append(f\" Found {dup_count} duplicate rows.\")\n",
    "else:\n",
    "    validation_results.append(\" No duplicate rows.\")\n",
    "\n",
    "print(dup_count)"
   ]
  },
  {
   "cell_type": "markdown",
   "metadata": {
    "application/vnd.databricks.v1+cell": {
     "cellMetadata": {},
     "inputWidgets": {},
     "nuid": "ded0f5c1-47f4-4b85-b73b-2e2dd42daed7",
     "showTitle": false,
     "tableResultSettingsMap": {},
     "title": ""
    }
   },
   "source": [
    "#### Data type checks (basic)"
   ]
  },
  {
   "cell_type": "code",
   "execution_count": 0,
   "metadata": {
    "application/vnd.databricks.v1+cell": {
     "cellMetadata": {},
     "inputWidgets": {},
     "nuid": "8319075f-bdcf-43d2-9d65-9a1ed185b3d4",
     "showTitle": false,
     "tableResultSettingsMap": {},
     "title": ""
    }
   },
   "outputs": [],
   "source": [
    "for col in numeric_ranges.keys():\n",
    "    if not pd.api.types.is_numeric_dtype(data[col]):\n",
    "        validation_results.append(f\"{col} should be numeric but found {data[col].dtype}.\")"
   ]
  },
  {
   "cell_type": "markdown",
   "metadata": {
    "application/vnd.databricks.v1+cell": {
     "cellMetadata": {},
     "inputWidgets": {},
     "nuid": "8e57e380-b403-4352-9350-3ff5c03d67c4",
     "showTitle": false,
     "tableResultSettingsMap": {},
     "title": ""
    }
   },
   "source": [
    "#### Range checks"
   ]
  },
  {
   "cell_type": "code",
   "execution_count": 0,
   "metadata": {
    "application/vnd.databricks.v1+cell": {
     "cellMetadata": {},
     "inputWidgets": {},
     "nuid": "21094376-730d-4271-ad24-3087eb5f7be6",
     "showTitle": false,
     "tableResultSettingsMap": {},
     "title": ""
    }
   },
   "outputs": [],
   "source": [
    "for col, (min_val, max_val) in numeric_ranges.items():\n",
    "    invalid_mask = (data[col] < min_val) if min_val is not None else pd.Series(False, index=data.index)\n",
    "    if max_val is not None:\n",
    "        invalid_mask |= (data[col] > max_val)\n",
    "    if invalid_mask.any():\n",
    "        validation_results.append(f\"{col} has values outside range {min_val}-{max_val}: {data.loc[invalid_mask, col].tolist()}\")\n",
    "    else:\n",
    "        validation_results.append(f\" {col} values are within range {min_val}-{max_val}.\")"
   ]
  },
  {
   "cell_type": "markdown",
   "metadata": {
    "application/vnd.databricks.v1+cell": {
     "cellMetadata": {},
     "inputWidgets": {},
     "nuid": "481f56d8-2d6e-4304-a0cf-43c4c859d234",
     "showTitle": false,
     "tableResultSettingsMap": {},
     "title": ""
    }
   },
   "source": [
    "#### Allowed categorical values"
   ]
  },
  {
   "cell_type": "code",
   "execution_count": 0,
   "metadata": {
    "application/vnd.databricks.v1+cell": {
     "cellMetadata": {},
     "inputWidgets": {},
     "nuid": "5e3d74cd-dfc5-4c5e-a882-ae221cabde9a",
     "showTitle": false,
     "tableResultSettingsMap": {},
     "title": ""
    }
   },
   "outputs": [],
   "source": [
    "# Allowed categorical values\n",
    "allowed_values = {\n",
    "    \"Gender\": [\"M\", \"F\"],\n",
    "    \"ContractType\": [\"Month-to-Month\", \"One Year\", \"Two Year\"],\n",
    "    \"PaymentMethod\": [\"Electronic Check\", \"Mailed Check\", \"Bank Transfer\", \"Credit Card\"]\n",
    "}"
   ]
  },
  {
   "cell_type": "code",
   "execution_count": 0,
   "metadata": {
    "application/vnd.databricks.v1+cell": {
     "cellMetadata": {},
     "inputWidgets": {},
     "nuid": "5f6942e3-23e4-4138-8f20-9f2d4e301a43",
     "showTitle": false,
     "tableResultSettingsMap": {},
     "title": ""
    }
   },
   "outputs": [],
   "source": [
    "for col, allowed in allowed_values.items():\n",
    "    invalid_cats = set(data[col].unique()) - set(allowed)\n",
    "    if invalid_cats:\n",
    "        validation_results.append(f\" {col} contains unexpected values: {invalid_cats}\")\n",
    "    else:\n",
    "        validation_results.append(f\" {col} values match allowed categories.\")"
   ]
  },
  {
   "cell_type": "markdown",
   "metadata": {
    "application/vnd.databricks.v1+cell": {
     "cellMetadata": {},
     "inputWidgets": {},
     "nuid": "8c8652cc-5f26-4c43-9258-15a48ed61fe1",
     "showTitle": false,
     "tableResultSettingsMap": {},
     "title": ""
    }
   },
   "source": [
    "## Visualizations"
   ]
  },
  {
   "cell_type": "markdown",
   "metadata": {
    "application/vnd.databricks.v1+cell": {
     "cellMetadata": {},
     "inputWidgets": {},
     "nuid": "5ef30e15-ae47-4e47-837c-6707d03551c0",
     "showTitle": false,
     "tableResultSettingsMap": {},
     "title": ""
    }
   },
   "source": [
    "#### Numeric distributions"
   ]
  },
  {
   "cell_type": "code",
   "execution_count": 0,
   "metadata": {
    "application/vnd.databricks.v1+cell": {
     "cellMetadata": {},
     "inputWidgets": {},
     "nuid": "aaebeee7-8035-4f33-808e-9457235fd28d",
     "showTitle": false,
     "tableResultSettingsMap": {},
     "title": ""
    }
   },
   "outputs": [],
   "source": [
    "\n",
    "num_cols = data.select_dtypes(include=[np.number]).columns\n",
    "for col in num_cols:\n",
    "    plt.figure(figsize=(6, 4))\n",
    "    sns.histplot(data[col], kde=True, bins=5)\n",
    "    plt.title(f\"Distribution of {col}\")\n",
    "    plt.show()\n",
    "    plt.close()"
   ]
  },
  {
   "cell_type": "markdown",
   "metadata": {
    "application/vnd.databricks.v1+cell": {
     "cellMetadata": {},
     "inputWidgets": {},
     "nuid": "dc1f736a-41f1-469a-b444-e06559091024",
     "showTitle": false,
     "tableResultSettingsMap": {},
     "title": ""
    }
   },
   "source": [
    "#### Categorical counts"
   ]
  },
  {
   "cell_type": "code",
   "execution_count": 0,
   "metadata": {
    "application/vnd.databricks.v1+cell": {
     "cellMetadata": {},
     "inputWidgets": {},
     "nuid": "bd7d2dfd-fc40-4d67-9e1b-8b46be7f59b8",
     "showTitle": false,
     "tableResultSettingsMap": {},
     "title": ""
    }
   },
   "outputs": [],
   "source": [
    "cat_cols = data.select_dtypes(exclude=[np.number]).columns\n",
    "for col in cat_cols:\n",
    "    plt.figure(figsize=(6, 4))\n",
    "    sns.countplot(x=data[col])\n",
    "    plt.title(f\"Value Counts of {col}\")\n",
    "    plt.show()\n",
    "    plt.close()\n"
   ]
  },
  {
   "cell_type": "code",
   "execution_count": 0,
   "metadata": {
    "application/vnd.databricks.v1+cell": {
     "cellMetadata": {},
     "inputWidgets": {},
     "nuid": "b3c3c12c-ad55-4a65-b772-fd3a67e382c2",
     "showTitle": false,
     "tableResultSettingsMap": {},
     "title": ""
    }
   },
   "outputs": [],
   "source": [
    "validation_results"
   ]
  },
  {
   "cell_type": "code",
   "execution_count": 0,
   "metadata": {
    "application/vnd.databricks.v1+cell": {
     "cellMetadata": {},
     "inputWidgets": {},
     "nuid": "e9b89e13-1018-4447-bb20-feef9d6553c9",
     "showTitle": false,
     "tableResultSettingsMap": {},
     "title": ""
    }
   },
   "outputs": [],
   "source": []
  }
 ],
 "metadata": {
  "application/vnd.databricks.v1+notebook": {
   "computePreferences": null,
   "dashboards": [],
   "environmentMetadata": null,
   "inputWidgetPreferences": null,
   "language": "python",
   "notebookMetadata": {},
   "notebookName": "Data_Validation",
   "widgets": {}
  },
  "kernelspec": {
   "display_name": "Python 3 (ipykernel)",
   "language": "python",
   "name": "python3"
  },
  "language_info": {
   "name": "python"
  }
 },
 "nbformat": 4,
 "nbformat_minor": 0
}
