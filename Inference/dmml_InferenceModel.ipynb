{
 "cells": [
  {
   "cell_type": "code",
   "execution_count": 0,
   "metadata": {
    "application/vnd.databricks.v1+cell": {
     "cellMetadata": {
      "byteLimit": 2048000,
      "rowLimit": 10000
     },
     "inputWidgets": {},
     "nuid": "ff7346aa-fe9d-4565-ae6e-378518122f49",
     "showTitle": true,
     "tableResultSettingsMap": {},
     "title": "Importing Libraries"
    }
   },
   "outputs": [],
   "source": [
    "import pandas as pd\n",
    "import joblib"
   ]
  },
  {
   "cell_type": "code",
   "execution_count": 0,
   "metadata": {
    "application/vnd.databricks.v1+cell": {
     "cellMetadata": {
      "byteLimit": 2048000,
      "rowLimit": 10000
     },
     "inputWidgets": {},
     "nuid": "3f1688f4-3db1-46d0-8b84-c223567716b3",
     "showTitle": true,
     "tableResultSettingsMap": {},
     "title": "Loading the trained model"
    }
   },
   "outputs": [],
   "source": [
    "model_path = \"/Workspace/Users/arorapuneet1998@gmail.com/DMML_Assignment/Model_Training/linear_regression_churn_model.pkl\"\n",
    "\n",
    "lr_model = joblib.load(model_path)\n",
    "print(\"Model loaded successfully.\")\n",
    "\n",
    "# encoder = joblib.load('encoder.pkl')"
   ]
  },
  {
   "cell_type": "markdown",
   "metadata": {
    "application/vnd.databricks.v1+cell": {
     "cellMetadata": {
      "byteLimit": 2048000,
      "rowLimit": 10000
     },
     "inputWidgets": {},
     "nuid": "070295f7-2498-46b0-8e03-6aac83a8d52e",
     "showTitle": false,
     "tableResultSettingsMap": {},
     "title": ""
    }
   },
   "source": [
    "#### Preprocess new data"
   ]
  },
  {
   "cell_type": "code",
   "execution_count": 0,
   "metadata": {
    "application/vnd.databricks.v1+cell": {
     "cellMetadata": {
      "byteLimit": 2048000,
      "rowLimit": 10000
     },
     "inputWidgets": {},
     "nuid": "45644c8c-e301-466d-a1b5-01a318b2d272",
     "showTitle": true,
     "tableResultSettingsMap": {},
     "title": "Load Data for inference"
    }
   },
   "outputs": [],
   "source": [
    "df = spark.table('dmml.datamart.customer_churn_processed')\n",
    "df_new = df.toPandas()"
   ]
  },
  {
   "cell_type": "code",
   "execution_count": 0,
   "metadata": {
    "application/vnd.databricks.v1+cell": {
     "cellMetadata": {
      "byteLimit": 2048000,
      "rowLimit": 10000
     },
     "inputWidgets": {},
     "nuid": "4dbb3f7c-4d1e-4ad6-9e51-b8bfc85ce618",
     "showTitle": true,
     "tableResultSettingsMap": {},
     "title": "remove id from the inference df"
    }
   },
   "outputs": [],
   "source": [
    "customer_ids = df_new['CustomerID']\n",
    "\n",
    "# Drop CustomerID from features\n",
    "X_new_raw = df_new.drop(columns=['CustomerID'])"
   ]
  },
  {
   "cell_type": "code",
   "execution_count": 0,
   "metadata": {
    "application/vnd.databricks.v1+cell": {
     "cellMetadata": {
      "byteLimit": 2048000,
      "rowLimit": 10000
     },
     "inputWidgets": {},
     "nuid": "1475e396-e499-4083-912d-84cdf66dfaa9",
     "showTitle": true,
     "tableResultSettingsMap": {},
     "title": "One Hot Encoding  & scaling"
    }
   },
   "outputs": [],
   "source": [
    "# ENcoding already applied in the preprocessing step \n",
    "\n",
    "# Scaling already done in the preprocessing step"
   ]
  },
  {
   "cell_type": "code",
   "execution_count": 0,
   "metadata": {
    "application/vnd.databricks.v1+cell": {
     "cellMetadata": {
      "byteLimit": 2048000,
      "rowLimit": 10000
     },
     "inputWidgets": {},
     "nuid": "b7a3d807-fd6a-406d-b7aa-e61cfb67f2b1",
     "showTitle": false,
     "tableResultSettingsMap": {},
     "title": ""
    }
   },
   "outputs": [],
   "source": [
    "print(X_new_raw)"
   ]
  },
  {
   "cell_type": "code",
   "execution_count": 0,
   "metadata": {
    "application/vnd.databricks.v1+cell": {
     "cellMetadata": {
      "byteLimit": 2048000,
      "rowLimit": 10000
     },
     "inputWidgets": {},
     "nuid": "55c09bba-15fa-4b07-b490-32d63a5755fd",
     "showTitle": false,
     "tableResultSettingsMap": {},
     "title": ""
    }
   },
   "outputs": [],
   "source": [
    "X_new_raw.describe()"
   ]
  },
  {
   "cell_type": "code",
   "execution_count": 0,
   "metadata": {
    "application/vnd.databricks.v1+cell": {
     "cellMetadata": {
      "byteLimit": 2048000,
      "rowLimit": 10000
     },
     "inputWidgets": {},
     "nuid": "bbd86a83-a6b0-4f56-829d-f30c11061422",
     "showTitle": false,
     "tableResultSettingsMap": {},
     "title": ""
    }
   },
   "outputs": [],
   "source": [
    "X_new_raw = X_new_raw.drop(columns=['SeniorCitizenFlag','LongTenureFlag'])"
   ]
  },
  {
   "cell_type": "code",
   "execution_count": 0,
   "metadata": {
    "application/vnd.databricks.v1+cell": {
     "cellMetadata": {
      "byteLimit": 2048000,
      "rowLimit": 10000
     },
     "inputWidgets": {},
     "nuid": "c09c0847-a922-47a1-8073-7abd523447b9",
     "showTitle": false,
     "tableResultSettingsMap": {},
     "title": ""
    }
   },
   "outputs": [],
   "source": [
    "X_new_raw['ContractType_One Year']=X_new_raw['ContractType_one_year']\n",
    "X_new_raw['ContractType_Two Year']=X_new_raw['ContractType_two_year']\n",
    "X_new_raw['Gender_M']=X_new_raw['Gender_male']\n",
    "X_new_raw['PaymentMethod_Credit Card']=X_new_raw['PaymentMethod_credit_card']\n",
    "X_new_raw['PaymentMethod_Mailed Check']=X_new_raw['PaymentMethod_mailed_check']\n",
    "X_new_raw['PaymentMethod_Electronic Check']=X_new_raw['PaymentMethod_mailed_check']\n",
    "\n",
    "X_new_raw = X_new_raw.drop(columns=['ContractType_one_year'])\n",
    "X_new_raw = X_new_raw.drop(columns=['ContractType_two_year'])\n",
    "X_new_raw = X_new_raw.drop(columns=['Gender_male'])\n",
    "X_new_raw = X_new_raw.drop(columns=['PaymentMethod_credit_card'])\n",
    "X_new_raw = X_new_raw.drop(columns=['PaymentMethod_mailed_check'])\n",
    "\n"
   ]
  },
  {
   "cell_type": "code",
   "execution_count": 0,
   "metadata": {
    "application/vnd.databricks.v1+cell": {
     "cellMetadata": {
      "byteLimit": 2048000,
      "rowLimit": 10000
     },
     "inputWidgets": {},
     "nuid": "020d6ffd-525c-4913-adb0-8aed657d389a",
     "showTitle": false,
     "tableResultSettingsMap": {},
     "title": ""
    }
   },
   "outputs": [],
   "source": [
    "X_new_raw"
   ]
  },
  {
   "cell_type": "code",
   "execution_count": 0,
   "metadata": {
    "application/vnd.databricks.v1+cell": {
     "cellMetadata": {
      "byteLimit": 2048000,
      "rowLimit": 10000
     },
     "inputWidgets": {},
     "nuid": "03386133-e878-4515-9c2d-3f33cff39944",
     "showTitle": true,
     "tableResultSettingsMap": {},
     "title": "### Predict churn on unseen data"
    }
   },
   "outputs": [],
   "source": [
    "# Predict\n",
    "y_pred = lr_model.predict(X_new_raw)\n",
    "y_pred_proba = lr_model.predict_proba(X_new_raw)[:, 1]"
   ]
  },
  {
   "cell_type": "code",
   "execution_count": 0,
   "metadata": {
    "application/vnd.databricks.v1+cell": {
     "cellMetadata": {
      "byteLimit": 2048000,
      "rowLimit": 10000
     },
     "inputWidgets": {},
     "nuid": "61c0fbe2-da6c-4632-9526-89e48fcac449",
     "showTitle": true,
     "tableResultSettingsMap": {},
     "title": "Add predictions to DataFrame"
    }
   },
   "outputs": [],
   "source": [
    "df_new['Churn_Prediction'] = y_pred\n",
    "df_new['Churn_Probability'] = y_pred_proba"
   ]
  },
  {
   "cell_type": "code",
   "execution_count": 0,
   "metadata": {
    "application/vnd.databricks.v1+cell": {
     "cellMetadata": {
      "byteLimit": 2048000,
      "rowLimit": 10000
     },
     "inputWidgets": {},
     "nuid": "f2a10ecb-7d82-4b39-90c8-8e8a8f72651c",
     "showTitle": false,
     "tableResultSettingsMap": {},
     "title": ""
    }
   },
   "outputs": [],
   "source": [
    "y_pred"
   ]
  },
  {
   "cell_type": "code",
   "execution_count": 0,
   "metadata": {
    "application/vnd.databricks.v1+cell": {
     "cellMetadata": {
      "byteLimit": 2048000,
      "rowLimit": 10000
     },
     "inputWidgets": {},
     "nuid": "f0960e8f-ac52-44c9-8635-b526dd5ab5c6",
     "showTitle": false,
     "tableResultSettingsMap": {},
     "title": ""
    }
   },
   "outputs": [],
   "source": [
    "df_new"
   ]
  },
  {
   "cell_type": "code",
   "execution_count": 0,
   "metadata": {
    "application/vnd.databricks.v1+cell": {
     "cellMetadata": {
      "byteLimit": 2048000,
      "rowLimit": 10000
     },
     "inputWidgets": {},
     "nuid": "a38718c2-bf04-4271-8780-a309a931d43c",
     "showTitle": false,
     "tableResultSettingsMap": {},
     "title": ""
    }
   },
   "outputs": [],
   "source": [
    "df_new['Churn_Prediction'].nunique()"
   ]
  },
  {
   "cell_type": "code",
   "execution_count": 0,
   "metadata": {
    "application/vnd.databricks.v1+cell": {
     "cellMetadata": {
      "byteLimit": 2048000,
      "rowLimit": 10000
     },
     "inputWidgets": {},
     "nuid": "a4b14c29-d223-409a-9f34-5cec51a93122",
     "showTitle": false,
     "tableResultSettingsMap": {},
     "title": ""
    }
   },
   "outputs": [],
   "source": [
    "df_prediction = df_new[['CustomerID','Churn_Prediction','Churn_Probability']]\n",
    "print(df_prediction)"
   ]
  },
  {
   "cell_type": "code",
   "execution_count": 0,
   "metadata": {
    "application/vnd.databricks.v1+cell": {
     "cellMetadata": {
      "byteLimit": 2048000,
      "rowLimit": 10000
     },
     "inputWidgets": {},
     "nuid": "c00a7815-09f5-4acf-8e59-3e6fca2c6b69",
     "showTitle": false,
     "tableResultSettingsMap": {
      "0": {
       "dataGridStateBlob": "{\"version\":1,\"tableState\":{\"columnPinning\":{\"left\":[\"#row_number#\"],\"right\":[]},\"columnSizing\":{},\"columnVisibility\":{}},\"settings\":{\"columns\":{}},\"syncTimestamp\":1755334369211}",
       "filterBlob": null,
       "queryPlanFiltersBlob": null,
       "tableResultIndex": 0
      }
     },
     "title": ""
    }
   },
   "outputs": [],
   "source": [
    "df_prediction_spark = spark.createDataFrame(df_prediction)\n",
    "\n",
    "df_prediction_spark = df_prediction_spark.withColumnRenamed('Churn_Probability','Churn_Confidence')\n",
    "\n",
    "display(df_prediction_spark)"
   ]
  },
  {
   "cell_type": "code",
   "execution_count": 0,
   "metadata": {
    "application/vnd.databricks.v1+cell": {
     "cellMetadata": {
      "byteLimit": 2048000,
      "rowLimit": 10000
     },
     "inputWidgets": {},
     "nuid": "bf4d140f-336d-4efa-a24c-ff0dde532cb3",
     "showTitle": false,
     "tableResultSettingsMap": {},
     "title": ""
    }
   },
   "outputs": [],
   "source": [
    "df_prediction_spark.printSchema()"
   ]
  },
  {
   "cell_type": "code",
   "execution_count": 0,
   "metadata": {
    "application/vnd.databricks.v1+cell": {
     "cellMetadata": {
      "byteLimit": 2048000,
      "rowLimit": 10000
     },
     "inputWidgets": {},
     "nuid": "b222585a-9f9a-4735-9321-2798854f9998",
     "showTitle": true,
     "tableResultSettingsMap": {},
     "title": "Save into Table"
    }
   },
   "outputs": [],
   "source": [
    "df_prediction_spark.write.mode(\"overwrite\").saveAsTable(\"dmml.datamart.inference_customer_churn_temp\")"
   ]
  },
  {
   "cell_type": "code",
   "execution_count": 0,
   "metadata": {
    "application/vnd.databricks.v1+cell": {
     "cellMetadata": {
      "byteLimit": 2048000,
      "implicitDf": true,
      "rowLimit": 10000
     },
     "inputWidgets": {},
     "nuid": "782e3011-09a9-4491-97ae-365f082bfce1",
     "showTitle": false,
     "tableResultSettingsMap": {},
     "title": ""
    }
   },
   "outputs": [],
   "source": [
    "spark.sql(\"select * from dmml.datamart.inference_customer_churn_temp\").display()"
   ]
  }
 ],
 "metadata": {
  "application/vnd.databricks.v1+notebook": {
   "computePreferences": null,
   "dashboards": [],
   "environmentMetadata": null,
   "inputWidgetPreferences": null,
   "language": "python",
   "notebookMetadata": {
    "mostRecentlyExecutedCommandWithImplicitDF": {
     "commandId": -1,
     "dataframes": [
      "_sqldf"
     ]
    },
    "pythonIndentUnit": 4
   },
   "notebookName": "dmml_InferenceModel",
   "widgets": {}
  },
  "kernelspec": {
   "display_name": "Python 3 (ipykernel)",
   "language": "python",
   "name": "python3"
  },
  "language_info": {
   "name": "python"
  }
 },
 "nbformat": 4,
 "nbformat_minor": 0
}
