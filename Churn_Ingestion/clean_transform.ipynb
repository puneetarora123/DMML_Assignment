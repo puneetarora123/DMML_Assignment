{
 "cells": [
  {
   "cell_type": "code",
   "execution_count": 0,
   "metadata": {
    "application/vnd.databricks.v1+cell": {
     "cellMetadata": {},
     "inputWidgets": {},
     "nuid": "4ac898d2-2eea-4834-9ebb-1447474ea666",
     "showTitle": false,
     "tableResultSettingsMap": {},
     "title": ""
    }
   },
   "outputs": [],
   "source": [
    "from pyspark.sql import SparkSession\n",
    "from pyspark.sql.functions import col, when, trim, lower, regexp_replace, mean, stddev\n",
    "from pyspark.sql.types import IntegerType, DoubleType, StringType"
   ]
  },
  {
   "cell_type": "code",
   "execution_count": 0,
   "metadata": {
    "application/vnd.databricks.v1+cell": {
     "cellMetadata": {},
     "inputWidgets": {},
     "nuid": "24a70fa0-df16-4aea-baf2-7771636dcb53",
     "showTitle": false,
     "tableResultSettingsMap": {},
     "title": ""
    }
   },
   "outputs": [],
   "source": [
    "# Create Spark session\n",
    "spark = SparkSession.builder.appName(\"ChurnDataCleaning\").getOrCreate()"
   ]
  },
  {
   "cell_type": "code",
   "execution_count": 0,
   "metadata": {
    "application/vnd.databricks.v1+cell": {
     "cellMetadata": {},
     "inputWidgets": {},
     "nuid": "14a3e34a-24a5-4178-822b-cfa7b9fbd6dd",
     "showTitle": false,
     "tableResultSettingsMap": {},
     "title": ""
    }
   },
   "outputs": [],
   "source": [
    "# Load raw data\n",
    "df = spark.read.csv(\"synthetic_churn_uncleaned.csv\", header=True, inferSchema=True)"
   ]
  },
  {
   "cell_type": "code",
   "execution_count": 0,
   "metadata": {
    "application/vnd.databricks.v1+cell": {
     "cellMetadata": {},
     "inputWidgets": {},
     "nuid": "10cabd8f-c052-497a-957c-ba58fef275cd",
     "showTitle": false,
     "tableResultSettingsMap": {},
     "title": ""
    }
   },
   "outputs": [],
   "source": [
    "# --------------------\n",
    "# 1. Remove duplicates\n",
    "# --------------------\n",
    "df = df.dropDuplicates()"
   ]
  },
  {
   "cell_type": "code",
   "execution_count": 0,
   "metadata": {
    "application/vnd.databricks.v1+cell": {
     "cellMetadata": {},
     "inputWidgets": {},
     "nuid": "61bec656-eacf-4d07-9258-956f09d33bc5",
     "showTitle": false,
     "tableResultSettingsMap": {},
     "title": ""
    }
   },
   "outputs": [],
   "source": [
    "string_cols = [f.name for f in df.schema.fields if isinstance(f.dataType, StringType)]"
   ]
  },
  {
   "cell_type": "code",
   "execution_count": 0,
   "metadata": {
    "application/vnd.databricks.v1+cell": {
     "cellMetadata": {},
     "inputWidgets": {},
     "nuid": "820e6356-fefa-4bfc-9539-c4239bc2c93d",
     "showTitle": false,
     "tableResultSettingsMap": {},
     "title": ""
    }
   },
   "outputs": [],
   "source": [
    "\n",
    "# Lowercase, trim spaces for all string columns\n",
    "for col_name in string_cols:\n",
    "    df = df.withColumn(col_name, trim(lower(col(col_name))))"
   ]
  },
  {
   "cell_type": "code",
   "execution_count": 0,
   "metadata": {
    "application/vnd.databricks.v1+cell": {
     "cellMetadata": {},
     "inputWidgets": {},
     "nuid": "8cf4e8f2-ca69-4f57-97a0-22f4d07ea5e0",
     "showTitle": false,
     "tableResultSettingsMap": {},
     "title": ""
    }
   },
   "outputs": [],
   "source": [
    "# Fix known categorical inconsistencies\n",
    "df = df.withColumn(\"Gender\", \n",
    "                   when(col(\"Gender\").isin(\"male\", \"m\"), \"male\")\n",
    "                   .when(col(\"Gender\").isin(\"female\", \"f\"), \"female\")\n",
    "                   .otherwise(col(\"Gender\")))"
   ]
  },
  {
   "cell_type": "code",
   "execution_count": 0,
   "metadata": {
    "application/vnd.databricks.v1+cell": {
     "cellMetadata": {},
     "inputWidgets": {},
     "nuid": "b5b75372-7c0c-46d7-be49-c72a624019df",
     "showTitle": false,
     "tableResultSettingsMap": {},
     "title": ""
    }
   },
   "outputs": [],
   "source": [
    "df = df.withColumn(\"Internet Type\", regexp_replace(col(\"Internet Type\"), \"fiber optic\", \"fiber optic\"))"
   ]
  },
  {
   "cell_type": "code",
   "execution_count": 0,
   "metadata": {
    "application/vnd.databricks.v1+cell": {
     "cellMetadata": {},
     "inputWidgets": {},
     "nuid": "fab47d91-6989-47fe-9fbf-83b31bb70def",
     "showTitle": false,
     "tableResultSettingsMap": {},
     "title": ""
    }
   },
   "outputs": [],
   "source": [
    "# --------------------\n",
    "# 3. Handle missing values\n",
    "# --------------------\n",
    "# Fill numeric columns with median, categorical with mode\n",
    "numeric_cols = [f.name for f in df.schema.fields if isinstance(f.dataType, (IntegerType, DoubleType))]\n",
    "categorical_cols = [c for c in df.columns if c not in numeric_cols]\n",
    "\n",
    "# Numeric: Fill with median\n",
    "for col_name in numeric_cols:\n",
    "    median_val = df.approxQuantile(col_name, [0.5], 0.01)[0]\n",
    "    df = df.na.fill({col_name: median_val})\n",
    "\n",
    "# Categorical: Fill with mode\n",
    "for col_name in categorical_cols:\n",
    "    mode_val = df.groupBy(col_name).count().orderBy(col(\"count\").desc()).first()[0]\n",
    "    df = df.na.fill({col_name: mode_val})"
   ]
  },
  {
   "cell_type": "code",
   "execution_count": 0,
   "metadata": {
    "application/vnd.databricks.v1+cell": {
     "cellMetadata": {},
     "inputWidgets": {},
     "nuid": "58f1d66d-221d-4d7f-8af6-90e4160b54a4",
     "showTitle": false,
     "tableResultSettingsMap": {},
     "title": ""
    }
   },
   "outputs": [],
   "source": [
    "# --------------------\n",
    "# 4. Ensure correct data types\n",
    "# --------------------\n",
    "binary_cols = [\"Married\", \"Paperless Billing\", \"Online Security\", \n",
    "               \"Device Protection Plan\", \"Streaming TV\", \n",
    "               \"Streaming Movies\", \"Unlimited Data\", \"Churn\"]\n",
    "\n",
    "for col_name in binary_cols:\n",
    "    df = df.withColumn(col_name, col(col_name).cast(IntegerType()))\n",
    "\n",
    "df = df.withColumn(\"Monthly Charge\", col(\"Monthly Charge\").cast(DoubleType()))\n",
    "df = df.withColumn(\"Total Charges\", col(\"Total Charges\").cast(DoubleType()))\n",
    "df = df.withColumn(\"Satisfaction Score\", col(\"Satisfaction Score\").cast(IntegerType()))\n",
    "df = df.withColumn(\"Number of Dependents\", col(\"Number of Dependents\").cast(IntegerType()))\n"
   ]
  },
  {
   "cell_type": "code",
   "execution_count": 0,
   "metadata": {
    "application/vnd.databricks.v1+cell": {
     "cellMetadata": {},
     "inputWidgets": {},
     "nuid": "30204248-9f41-48ea-b28e-c67825a4840a",
     "showTitle": false,
     "tableResultSettingsMap": {},
     "title": ""
    }
   },
   "outputs": [],
   "source": [
    "# --------------------\n",
    "# 5. Remove extreme outliers\n",
    "# --------------------\n",
    "for col_name in [\"Monthly Charge\", \"Total Charges\", \"Age\", \"Tenure in Months\"]:\n",
    "    stats = df.select(mean(col_name).alias(\"mean\"), stddev(col_name).alias(\"std\")).collect()[0]\n",
    "    mean_val, std_val = stats[\"mean\"], stats[\"std\"]\n",
    "    df = df.filter(((col(col_name) - mean_val) / std_val).abs() < 3)\n"
   ]
  },
  {
   "cell_type": "code",
   "execution_count": 0,
   "metadata": {
    "application/vnd.databricks.v1+cell": {
     "cellMetadata": {},
     "inputWidgets": {},
     "nuid": "281fea83-6c29-401c-bb57-6a0bf075a391",
     "showTitle": false,
     "tableResultSettingsMap": {},
     "title": ""
    }
   },
   "outputs": [],
   "source": [
    "# --------------------\n",
    "# 6. Derive useful non-ML columns\n",
    "# --------------------\n",
    "# Senior Citizen flag\n",
    "df = df.withColumn(\"Senior Citizen\", when(col(\"Age\") >= 60, 1).otherwise(0))\n",
    "\n",
    "# Flag for long tenure customers\n",
    "df = df.withColumn(\"Long Tenure Flag\", when(col(\"Tenure in Months\") >= 24, 1).otherwise(0))\n",
    "\n",
    "# --------------------\n",
    "# 7. Final check\n",
    "# --------------------\n",
    "df.printSchema()\n",
    "df.show(10, truncate=False)\n"
   ]
  }
 ],
 "metadata": {
  "application/vnd.databricks.v1+notebook": {
   "computePreferences": null,
   "dashboards": [],
   "environmentMetadata": {
    "base_environment": "",
    "environment_version": "2"
   },
   "inputWidgetPreferences": null,
   "language": "python",
   "notebookMetadata": {
    "pythonIndentUnit": 4
   },
   "notebookName": "clean_transform",
   "widgets": {}
  },
  "language_info": {
   "name": "python"
  }
 },
 "nbformat": 4,
 "nbformat_minor": 0
}
