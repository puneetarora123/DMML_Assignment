{
 "cells": [
  {
   "cell_type": "code",
   "execution_count": 0,
   "metadata": {
    "application/vnd.databricks.v1+cell": {
     "cellMetadata": {},
     "inputWidgets": {},
     "nuid": "4ac898d2-2eea-4834-9ebb-1447474ea666",
     "showTitle": false,
     "tableResultSettingsMap": {},
     "title": ""
    }
   },
   "outputs": [],
   "source": [
    "from pyspark.sql import SparkSession\n",
    "from pyspark.sql.functions import col, when, trim, lower, regexp_replace, mean, stddev\n",
    "from pyspark.sql.types import IntegerType, DoubleType, StringType"
   ]
  },
  {
   "cell_type": "code",
   "execution_count": 0,
   "metadata": {
    "application/vnd.databricks.v1+cell": {
     "cellMetadata": {},
     "inputWidgets": {},
     "nuid": "24a70fa0-df16-4aea-baf2-7771636dcb53",
     "showTitle": false,
     "tableResultSettingsMap": {},
     "title": ""
    }
   },
   "outputs": [],
   "source": [
    "# Create Spark session\n",
    "spark = SparkSession.builder.appName(\"ChurnDataCleaning\").getOrCreate()"
   ]
  },
  {
   "cell_type": "code",
   "execution_count": 0,
   "metadata": {
    "application/vnd.databricks.v1+cell": {
     "cellMetadata": {},
     "inputWidgets": {},
     "nuid": "2a18eeaa-8d06-411a-92fb-968d39e7cc80",
     "showTitle": false,
     "tableResultSettingsMap": {},
     "title": ""
    }
   },
   "outputs": [],
   "source": [
    "catalog_name = dbutils.widgets.get('catalog')\n",
    "schema_raw = dbutils.widgets.get('schema_raw')\n",
    "shema_datamart = dbutils.widgets.get('shema_datamart')\n",
    "\n",
    "table_inter_hf = 'raw_customer_churn_hf_temp'\n",
    "table_inter_sf = 'raw_customer_churn_sf_temp'"
   ]
  },
  {
   "cell_type": "code",
   "execution_count": 0,
   "metadata": {
    "application/vnd.databricks.v1+cell": {
     "cellMetadata": {},
     "inputWidgets": {},
     "nuid": "14a3e34a-24a5-4178-822b-cfa7b9fbd6dd",
     "showTitle": true,
     "tableResultSettingsMap": {},
     "title": "Load the raw tables (both sources)"
    }
   },
   "outputs": [],
   "source": [
    "df1 = spark.table(f'{catalog_name}.{schema_raw}.{table_inter_hf}')\n",
    "df2 = spark.table(f'{catalog_name}.{schema_raw}.{table_inter_sf}')"
   ]
  },
  {
   "cell_type": "code",
   "execution_count": 0,
   "metadata": {
    "application/vnd.databricks.v1+cell": {
     "cellMetadata": {},
     "inputWidgets": {},
     "nuid": "bb43de1a-0ebb-4fb1-93ee-44b2dc18d6b5",
     "showTitle": true,
     "tableResultSettingsMap": {},
     "title": "Keep the required features required for inference"
    }
   },
   "outputs": [],
   "source": [
    "feature_cols = ['CustomerID','Age','Gender','Tenure','MonthlyCharges','TotalCharges','ContractType','PaymentMethod','Churn']\n",
    "\n",
    "df1 = df1.select(feature_cols)\n",
    "df2 = df2.select(feature_cols)"
   ]
  },
  {
   "cell_type": "code",
   "execution_count": 0,
   "metadata": {
    "application/vnd.databricks.v1+cell": {
     "cellMetadata": {},
     "inputWidgets": {},
     "nuid": "43f9fdea-96f5-4781-996f-e7853cbd512b",
     "showTitle": true,
     "tableResultSettingsMap": {},
     "title": "Merge data from both sources"
    }
   },
   "outputs": [],
   "source": [
    "df = df1.union(df2)"
   ]
  },
  {
   "cell_type": "code",
   "execution_count": 0,
   "metadata": {
    "application/vnd.databricks.v1+cell": {
     "cellMetadata": {},
     "inputWidgets": {},
     "nuid": "10cabd8f-c052-497a-957c-ba58fef275cd",
     "showTitle": true,
     "tableResultSettingsMap": {},
     "title": "Remove Duplicates"
    }
   },
   "outputs": [],
   "source": [
    "df = df.dropDuplicates()"
   ]
  },
  {
   "cell_type": "code",
   "execution_count": 0,
   "metadata": {
    "application/vnd.databricks.v1+cell": {
     "cellMetadata": {},
     "inputWidgets": {},
     "nuid": "61bec656-eacf-4d07-9258-956f09d33bc5",
     "showTitle": true,
     "tableResultSettingsMap": {},
     "title": "standardize columns"
    }
   },
   "outputs": [],
   "source": [
    "string_cols = [f.name for f in df.schema.fields if isinstance(f.dataType, StringType)]\n",
    "\n",
    "# Lowercase, trim spaces for all string columns\n",
    "for col_name in string_cols:\n",
    "    df = df.withColumn(col_name, trim(lower(col(col_name))))"
   ]
  },
  {
   "cell_type": "code",
   "execution_count": 0,
   "metadata": {
    "application/vnd.databricks.v1+cell": {
     "cellMetadata": {},
     "inputWidgets": {},
     "nuid": "8cf4e8f2-ca69-4f57-97a0-22f4d07ea5e0",
     "showTitle": true,
     "tableResultSettingsMap": {},
     "title": "Fix known categorical inconsistencies"
    }
   },
   "outputs": [],
   "source": [
    "# Fix known categorical inconsistencies\n",
    "df = df.withColumn(\"Gender\", \n",
    "                   when(col(\"Gender\").isin(\"male\", \"m\"), \"male\")\n",
    "                   .when(col(\"Gender\").isin(\"female\", \"f\"), \"female\")\n",
    "                   .otherwise(col(\"Gender\")))"
   ]
  },
  {
   "cell_type": "code",
   "execution_count": 0,
   "metadata": {
    "application/vnd.databricks.v1+cell": {
     "cellMetadata": {},
     "inputWidgets": {},
     "nuid": "b5b75372-7c0c-46d7-be49-c72a624019df",
     "showTitle": false,
     "tableResultSettingsMap": {},
     "title": ""
    }
   },
   "outputs": [],
   "source": [
    "df = df.withColumn(\"Internet Type\", regexp_replace(col(\"Internet Type\"), \"fiber optic\", \"fiber optic\"))"
   ]
  },
  {
   "cell_type": "code",
   "execution_count": 0,
   "metadata": {
    "application/vnd.databricks.v1+cell": {
     "cellMetadata": {},
     "inputWidgets": {},
     "nuid": "fab47d91-6989-47fe-9fbf-83b31bb70def",
     "showTitle": true,
     "tableResultSettingsMap": {},
     "title": "Handle Missing Values"
    }
   },
   "outputs": [],
   "source": [
    "# Fill numeric columns with median, categorical with mode\n",
    "numeric_cols = [f.name for f in df.schema.fields if isinstance(f.dataType, (IntegerType, DoubleType))]\n",
    "categorical_cols = [c for c in df.columns if c not in numeric_cols]\n",
    "\n",
    "# Numeric: Fill with median\n",
    "for col_name in numeric_cols:\n",
    "    median_val = df.approxQuantile(col_name, [0.5], 0.01)[0]\n",
    "    df = df.na.fill({col_name: median_val})\n",
    "\n",
    "# Categorical: Fill with mode\n",
    "for col_name in categorical_cols:\n",
    "    mode_val = df.groupBy(col_name).count().orderBy(col(\"count\").desc()).first()[0]\n",
    "    df = df.na.fill({col_name: mode_val})"
   ]
  },
  {
   "cell_type": "code",
   "execution_count": 0,
   "metadata": {
    "application/vnd.databricks.v1+cell": {
     "cellMetadata": {},
     "inputWidgets": {},
     "nuid": "58f1d66d-221d-4d7f-8af6-90e4160b54a4",
     "showTitle": true,
     "tableResultSettingsMap": {},
     "title": "Ensure correct data types"
    }
   },
   "outputs": [],
   "source": [
    "binary_cols = [\"Married\", \"Paperless Billing\", \"Online Security\", \n",
    "               \"Device Protection Plan\", \"Streaming TV\", \n",
    "               \"Streaming Movies\", \"Unlimited Data\", \"Churn\"]\n",
    "\n",
    "for col_name in binary_cols:\n",
    "    df = df.withColumn(col_name, col(col_name).cast(IntegerType()))\n",
    "\n",
    "df = df.withColumn(\"Monthly Charge\", col(\"Monthly Charge\").cast(DoubleType()))\n",
    "df = df.withColumn(\"Total Charges\", col(\"Total Charges\").cast(DoubleType()))\n",
    "df = df.withColumn(\"Satisfaction Score\", col(\"Satisfaction Score\").cast(IntegerType()))\n",
    "df = df.withColumn(\"Number of Dependents\", col(\"Number of Dependents\").cast(IntegerType()))\n"
   ]
  },
  {
   "cell_type": "code",
   "execution_count": 0,
   "metadata": {
    "application/vnd.databricks.v1+cell": {
     "cellMetadata": {},
     "inputWidgets": {},
     "nuid": "30204248-9f41-48ea-b28e-c67825a4840a",
     "showTitle": true,
     "tableResultSettingsMap": {},
     "title": "Remove extreme outliers"
    }
   },
   "outputs": [],
   "source": [
    "for col_name in [\"Monthly Charge\", \"Total Charges\", \"Age\", \"Tenure in Months\"]:\n",
    "    stats = df.select(mean(col_name).alias(\"mean\"), stddev(col_name).alias(\"std\")).collect()[0]\n",
    "    mean_val, std_val = stats[\"mean\"], stats[\"std\"]\n",
    "    df = df.filter(((col(col_name) - mean_val) / std_val).abs() < 3)\n"
   ]
  },
  {
   "cell_type": "code",
   "execution_count": 0,
   "metadata": {
    "application/vnd.databricks.v1+cell": {
     "cellMetadata": {},
     "inputWidgets": {},
     "nuid": "281fea83-6c29-401c-bb57-6a0bf075a391",
     "showTitle": true,
     "tableResultSettingsMap": {},
     "title": "Derive useful non-ML columns"
    }
   },
   "outputs": [],
   "source": [
    "# Senior Citizen flag\n",
    "df = df.withColumn(\"Senior Citizen\", when(col(\"Age\") >= 60, 1).otherwise(0))\n",
    "\n",
    "# Flag for long tenure customers\n",
    "df = df.withColumn(\"Long Tenure Flag\", when(col(\"Tenure in Months\") >= 24, 1).otherwise(0))"
   ]
  },
  {
   "cell_type": "code",
   "execution_count": 0,
   "metadata": {
    "application/vnd.databricks.v1+cell": {
     "cellMetadata": {},
     "inputWidgets": {},
     "nuid": "c63ec66f-5087-4f08-8a0f-0f82e7c03b8c",
     "showTitle": false,
     "tableResultSettingsMap": {},
     "title": ""
    }
   },
   "outputs": [],
   "source": [
    "df.printSchema()\n",
    "df.show(10, truncate=False)"
   ]
  },
  {
   "cell_type": "code",
   "execution_count": 0,
   "metadata": {
    "application/vnd.databricks.v1+cell": {
     "cellMetadata": {},
     "inputWidgets": {},
     "nuid": "45ba65d5-2de0-4335-82a2-7e996a02c258",
     "showTitle": false,
     "tableResultSettingsMap": {},
     "title": ""
    }
   },
   "outputs": [],
   "source": [
    "# sample data quality report in pdf / csv format . summarising issues and resolution"
   ]
  }
 ],
 "metadata": {
  "application/vnd.databricks.v1+notebook": {
   "computePreferences": null,
   "dashboards": [],
   "environmentMetadata": {
    "base_environment": "",
    "environment_version": "2"
   },
   "inputWidgetPreferences": null,
   "language": "python",
   "notebookMetadata": {
    "pythonIndentUnit": 4
   },
   "notebookName": "clean_transform",
   "widgets": {}
  },
  "language_info": {
   "name": "python"
  }
 },
 "nbformat": 4,
 "nbformat_minor": 0
}
