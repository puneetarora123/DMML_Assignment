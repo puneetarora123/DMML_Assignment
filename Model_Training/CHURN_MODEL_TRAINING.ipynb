{
 "cells": [
  {
   "cell_type": "code",
   "execution_count": 0,
   "metadata": {
    "application/vnd.databricks.v1+cell": {
     "cellMetadata": {
      "byteLimit": 2048000,
      "rowLimit": 10000
     },
     "inputWidgets": {},
     "nuid": "f74cb2f0-c9c7-4e7b-aaad-99b9fa4985c1",
     "showTitle": false,
     "tableResultSettingsMap": {},
     "title": ""
    }
   },
   "outputs": [],
   "source": [
    "pip install mlflow"
   ]
  },
  {
   "cell_type": "code",
   "execution_count": 0,
   "metadata": {
    "application/vnd.databricks.v1+cell": {
     "cellMetadata": {
      "byteLimit": 2048000,
      "rowLimit": 10000
     },
     "inputWidgets": {},
     "nuid": "687e6453-1df4-4c0a-9850-9c15a80d99cf",
     "showTitle": false,
     "tableResultSettingsMap": {},
     "title": ""
    }
   },
   "outputs": [],
   "source": [
    "pip install --upgrade typing-extensions"
   ]
  },
  {
   "cell_type": "code",
   "execution_count": 0,
   "metadata": {
    "application/vnd.databricks.v1+cell": {
     "cellMetadata": {
      "byteLimit": 2048000,
      "rowLimit": 10000
     },
     "inputWidgets": {},
     "nuid": "d10c0d84-deb9-4a6f-aa6f-992c88d4def8",
     "showTitle": false,
     "tableResultSettingsMap": {},
     "title": ""
    }
   },
   "outputs": [],
   "source": [
    "dbutils.library.restartPython()"
   ]
  },
  {
   "cell_type": "code",
   "execution_count": 0,
   "metadata": {
    "application/vnd.databricks.v1+cell": {
     "cellMetadata": {
      "byteLimit": 2048000,
      "rowLimit": 10000
     },
     "inputWidgets": {},
     "nuid": "c6fadae2-6c3e-4451-b9e4-cff915296964",
     "showTitle": false,
     "tableResultSettingsMap": {},
     "title": ""
    }
   },
   "outputs": [],
   "source": [
    "artifact_path = '/Workspace/Users/arorapuneet1998@gmail.com/MLFlow/Artfacts/'"
   ]
  },
  {
   "cell_type": "code",
   "execution_count": 0,
   "metadata": {
    "application/vnd.databricks.v1+cell": {
     "cellMetadata": {
      "byteLimit": 2048000,
      "rowLimit": 10000
     },
     "inputWidgets": {},
     "nuid": "c2e95848-3470-4358-a1b9-6b3bc3561ba7",
     "showTitle": true,
     "tableResultSettingsMap": {},
     "title": "Import the Required Libraries"
    }
   },
   "outputs": [],
   "source": [
    "import pandas as pd\n",
    "import numpy as np\n",
    "import matplotlib.pyplot as plt\n",
    "import seaborn as sns\n",
    "from sklearn.model_selection import train_test_split\n",
    "from sklearn.preprocessing import StandardScaler, MinMaxScaler, LabelEncoder\n",
    "from sklearn.linear_model import LogisticRegression\n",
    "from sklearn.ensemble import RandomForestClassifier\n",
    "from sklearn.metrics import accuracy_score, precision_score, recall_score, f1_score, confusion_matrix"
   ]
  },
  {
   "cell_type": "code",
   "execution_count": 0,
   "metadata": {
    "application/vnd.databricks.v1+cell": {
     "cellMetadata": {
      "byteLimit": 2048000,
      "rowLimit": 10000
     },
     "inputWidgets": {},
     "nuid": "c5bd4db3-0324-4a66-8707-78a1475ae9b4",
     "showTitle": false,
     "tableResultSettingsMap": {},
     "title": ""
    }
   },
   "outputs": [],
   "source": [
    "import mlflow as ml\n",
    "import mlflow.sklearn\n",
    "from mlflow.models import infer_signature"
   ]
  },
  {
   "cell_type": "code",
   "execution_count": 0,
   "metadata": {
    "application/vnd.databricks.v1+cell": {
     "cellMetadata": {
      "byteLimit": 2048000,
      "rowLimit": 10000
     },
     "inputWidgets": {},
     "nuid": "601821c9-9a83-458b-ad5b-87cb8bb332a7",
     "showTitle": false,
     "tableResultSettingsMap": {},
     "title": ""
    }
   },
   "outputs": [],
   "source": [
    "!mlflow --version"
   ]
  },
  {
   "cell_type": "code",
   "execution_count": 0,
   "metadata": {
    "application/vnd.databricks.v1+cell": {
     "cellMetadata": {
      "byteLimit": 2048000,
      "rowLimit": 10000
     },
     "inputWidgets": {},
     "nuid": "3c3e92c9-462a-4269-805c-bf805e96e839",
     "showTitle": false,
     "tableResultSettingsMap": {},
     "title": ""
    }
   },
   "outputs": [],
   "source": [
    "mlflow.set_experiment(\"/Workspace/Users/arorapuneet1998@gmail.com/MLFlow/Customer_Churn_Prediction_DMML_Assignment\")"
   ]
  },
  {
   "cell_type": "markdown",
   "metadata": {
    "application/vnd.databricks.v1+cell": {
     "cellMetadata": {
      "byteLimit": 2048000,
      "rowLimit": 10000
     },
     "inputWidgets": {},
     "nuid": "0895a65d-89bd-4527-9441-487297b475e9",
     "showTitle": false,
     "tableResultSettingsMap": {},
     "title": ""
    }
   },
   "source": [
    "### Loading theChurn Dataset and making the file structure for storing the artifacts"
   ]
  },
  {
   "cell_type": "code",
   "execution_count": 0,
   "metadata": {
    "application/vnd.databricks.v1+cell": {
     "cellMetadata": {
      "byteLimit": 2048000,
      "rowLimit": 10000
     },
     "inputWidgets": {},
     "nuid": "22eb2411-905b-4636-889b-1ea867ea21a1",
     "showTitle": false,
     "tableResultSettingsMap": {},
     "title": ""
    }
   },
   "outputs": [],
   "source": [
    "import warnings\n",
    "warnings.filterwarnings('ignore')"
   ]
  },
  {
   "cell_type": "code",
   "execution_count": 0,
   "metadata": {
    "application/vnd.databricks.v1+cell": {
     "cellMetadata": {
      "byteLimit": 2048000,
      "rowLimit": 10000
     },
     "inputWidgets": {},
     "nuid": "54d21f12-8a5e-40d7-aa4c-cb84f7354919",
     "showTitle": true,
     "tableResultSettingsMap": {},
     "title": "Read the data from the TrainingDataset Table from deltalake'"
    }
   },
   "outputs": [],
   "source": [
    "try:\n",
    "    # df = pd.read_csv('DMML_TRAINING_DATA_churn_data.csv')\n",
    "    df = spark.table('dmml.raw.churn_training_data').limit(100).toPandas()\n",
    "    print(\"Dataset loaded successfully.\")\n",
    "except FileNotFoundError:\n",
    "    print(\"Error: FILE not found. Please ensure the file is in the same directory.\")\n",
    "    exit() # Exit if the file is not found"
   ]
  },
  {
   "cell_type": "markdown",
   "metadata": {
    "application/vnd.databricks.v1+cell": {
     "cellMetadata": {
      "byteLimit": 2048000,
      "rowLimit": 10000
     },
     "inputWidgets": {},
     "nuid": "03612c5e-f79c-4b09-94f7-a830bf925759",
     "showTitle": false,
     "tableResultSettingsMap": {},
     "title": ""
    }
   },
   "source": [
    "## Data Exploration and Visualization -Performing initial analysis"
   ]
  },
  {
   "cell_type": "markdown",
   "metadata": {
    "application/vnd.databricks.v1+cell": {
     "cellMetadata": {
      "byteLimit": 2048000,
      "rowLimit": 10000
     },
     "inputWidgets": {},
     "nuid": "92f67034-9061-4f4a-a746-827fa2b684c8",
     "showTitle": false,
     "tableResultSettingsMap": {},
     "title": ""
    }
   },
   "source": [
    "#### Display the first 5 rows of the dataframe"
   ]
  },
  {
   "cell_type": "code",
   "execution_count": 0,
   "metadata": {
    "application/vnd.databricks.v1+cell": {
     "cellMetadata": {
      "byteLimit": 2048000,
      "rowLimit": 10000
     },
     "inputWidgets": {},
     "nuid": "5c885d1e-9763-4c47-99ce-d3ab5197ec22",
     "showTitle": false,
     "tableResultSettingsMap": {},
     "title": ""
    }
   },
   "outputs": [],
   "source": [
    "print(\"\\nInitial Data Head:\")\n",
    "print(df.head())"
   ]
  },
  {
   "cell_type": "markdown",
   "metadata": {
    "application/vnd.databricks.v1+cell": {
     "cellMetadata": {
      "byteLimit": 2048000,
      "rowLimit": 10000
     },
     "inputWidgets": {},
     "nuid": "61182dff-5f3d-4ed7-9605-7ed49264aef2",
     "showTitle": false,
     "tableResultSettingsMap": {},
     "title": ""
    }
   },
   "source": [
    "#### Data Information & schema"
   ]
  },
  {
   "cell_type": "code",
   "execution_count": 0,
   "metadata": {
    "application/vnd.databricks.v1+cell": {
     "cellMetadata": {
      "byteLimit": 2048000,
      "rowLimit": 10000
     },
     "inputWidgets": {},
     "nuid": "c2537d8d-5a28-4d35-b366-aa9a232d84b7",
     "showTitle": false,
     "tableResultSettingsMap": {},
     "title": ""
    }
   },
   "outputs": [],
   "source": [
    "df.info()"
   ]
  },
  {
   "cell_type": "markdown",
   "metadata": {
    "application/vnd.databricks.v1+cell": {
     "cellMetadata": {
      "byteLimit": 2048000,
      "rowLimit": 10000
     },
     "inputWidgets": {},
     "nuid": "9f20f7b2-9d17-4e53-912a-8f403d72bfd6",
     "showTitle": false,
     "tableResultSettingsMap": {},
     "title": ""
    }
   },
   "source": [
    "#### Descriptive Statistics: includes count, mean , std and 5 point summary for all numeric columns"
   ]
  },
  {
   "cell_type": "code",
   "execution_count": 0,
   "metadata": {
    "application/vnd.databricks.v1+cell": {
     "cellMetadata": {
      "byteLimit": 2048000,
      "rowLimit": 10000
     },
     "inputWidgets": {},
     "nuid": "9daa1092-a1ce-429c-9ea1-79e8ef8fe4ca",
     "showTitle": false,
     "tableResultSettingsMap": {},
     "title": ""
    }
   },
   "outputs": [],
   "source": [
    "print(df.describe())\n",
    "\n",
    "# saving it as a csv for the purpose of saving it inside mlflow\n",
    "summary_stats = df.describe()\n",
    "\n",
    "# Save summary statistics to CSV\n",
    "summary_path = f\"{artifact_path}summary_statistics.csv\"\n",
    "summary_stats.to_csv(summary_path)"
   ]
  },
  {
   "cell_type": "code",
   "execution_count": 0,
   "metadata": {
    "application/vnd.databricks.v1+cell": {
     "cellMetadata": {
      "byteLimit": 2048000,
      "rowLimit": 10000
     },
     "inputWidgets": {},
     "nuid": "9c56814c-4060-4bb1-bee8-79905b873cf3",
     "showTitle": false,
     "tableResultSettingsMap": {},
     "title": ""
    }
   },
   "outputs": [],
   "source": [
    "type(summary_stats)"
   ]
  },
  {
   "cell_type": "markdown",
   "metadata": {
    "application/vnd.databricks.v1+cell": {
     "cellMetadata": {
      "byteLimit": 2048000,
      "rowLimit": 10000
     },
     "inputWidgets": {},
     "nuid": "4a584ad8-2378-42b6-bb55-55a749fdc5cb",
     "showTitle": false,
     "tableResultSettingsMap": {},
     "title": ""
    }
   },
   "source": [
    "#### checking for Missing Values"
   ]
  },
  {
   "cell_type": "code",
   "execution_count": 0,
   "metadata": {
    "application/vnd.databricks.v1+cell": {
     "cellMetadata": {
      "byteLimit": 2048000,
      "rowLimit": 10000
     },
     "inputWidgets": {},
     "nuid": "864e8167-e51b-441a-9a70-ec1496f9ac0e",
     "showTitle": false,
     "tableResultSettingsMap": {},
     "title": ""
    }
   },
   "outputs": [],
   "source": [
    "print(df.isnull().sum())"
   ]
  },
  {
   "cell_type": "code",
   "execution_count": 0,
   "metadata": {
    "application/vnd.databricks.v1+cell": {
     "cellMetadata": {
      "byteLimit": 2048000,
      "rowLimit": 10000
     },
     "inputWidgets": {},
     "nuid": "a4368037-a666-47d2-8e08-28a9043483c3",
     "showTitle": true,
     "tableResultSettingsMap": {},
     "title": "Checking for Duplicate user_ids"
    }
   },
   "outputs": [],
   "source": [
    "print('Check for Duplicate CustomerID')\n",
    "\n",
    "if df['CustomerID'].duplicated().any():\n",
    "    print(\"\\nWarning: Duplicate user_ids found. Considering unique user_ids for analysis.\")\n",
    "    df.drop_duplicates(subset=['CustomerID'], inplace=True)\n",
    "    print(f\"Removed duplicates. New shape: {df.shape}\")\n",
    "else:\n",
    "    print('No Duplicate User id found')"
   ]
  },
  {
   "cell_type": "code",
   "execution_count": 0,
   "metadata": {
    "application/vnd.databricks.v1+cell": {
     "cellMetadata": {
      "byteLimit": 2048000,
      "rowLimit": 10000
     },
     "inputWidgets": {},
     "nuid": "3c52bed4-decd-46e5-bf5a-af04c4d21c07",
     "showTitle": true,
     "tableResultSettingsMap": {},
     "title": "Bar chart for the distribution of Target Variable (Churn)"
    }
   },
   "outputs": [],
   "source": [
    "\n",
    "# 1. Bar chart for the distribution of the target variable (will_churn)\n",
    "plt.figure(figsize=(7, 5))\n",
    "sns.countplot(x='Churn', data=df, palette='viridis')\n",
    "plt.title('Distribution of Target Variable (will_churn)')\n",
    "plt.xlabel('Will Churn')\n",
    "plt.ylabel('Number of Customers')\n",
    "plt.xticks(ticks=[0, 1], labels=['No Churn (FALSE)', 'Churn (TRUE)'])\n",
    "plt.savefig(f\"{artifact_path}churn_distribution.png\")\n",
    "plt.show()"
   ]
  },
  {
   "cell_type": "code",
   "execution_count": 0,
   "metadata": {
    "application/vnd.databricks.v1+cell": {
     "cellMetadata": {
      "byteLimit": 2048000,
      "rowLimit": 10000
     },
     "inputWidgets": {},
     "nuid": "147b1800-653c-4450-bd01-73604954e9f6",
     "showTitle": true,
     "tableResultSettingsMap": {},
     "title": "Checking the Distribution of Target Variable (Churn)"
    }
   },
   "outputs": [],
   "source": [
    "churn_counts = df['Churn'].value_counts()\n",
    "\n",
    "print(f\"\\nDistribution of 'will_churn':\\n{churn_counts}\")\n",
    "print(f\"Churn percentage: {churn_counts['Yes'] / len(df) * 100:.2f}%\")\n",
    "print(f\"\\nNo Churn percentage: {churn_counts['No'] / len(df) * 100:.2f}%\")\n",
    "\n",
    "if churn_counts['Yes'] / len(df) > 0.6 or churn_counts['Yes'] / len(df) < 0.4:\n",
    "    print(\"The dataset appears to be imbalanced.\")\n",
    "else:\n",
    "    print(\"The dataset appears to be relatively balanced.\")"
   ]
  },
  {
   "cell_type": "markdown",
   "metadata": {
    "application/vnd.databricks.v1+cell": {
     "cellMetadata": {
      "byteLimit": 2048000,
      "rowLimit": 10000
     },
     "inputWidgets": {},
     "nuid": "6a471cdf-c4df-4f56-80c7-550cbd3b3e27",
     "showTitle": false,
     "tableResultSettingsMap": {},
     "title": ""
    }
   },
   "source": [
    "#### Histograms for numerical features"
   ]
  },
  {
   "cell_type": "code",
   "execution_count": 0,
   "metadata": {
    "application/vnd.databricks.v1+cell": {
     "cellMetadata": {
      "byteLimit": 2048000,
      "rowLimit": 10000
     },
     "inputWidgets": {},
     "nuid": "b8de6304-12fe-4c81-b4fc-cbb3b9930bd1",
     "showTitle": false,
     "tableResultSettingsMap": {},
     "title": ""
    }
   },
   "outputs": [],
   "source": [
    "\n",
    "numerical_features = ['Age', 'Tenure', 'MonthlyCharges', 'TotalCharges']\n",
    "\n",
    "plt.figure(figsize=(15, 5))\n",
    "\n",
    "for i, feature in enumerate(numerical_features):\n",
    "    plt.subplot(1, len(numerical_features), i + 1)\n",
    "    sns.histplot(df[feature], kde=True, bins=20, color='skyblue')\n",
    "    plt.title(f'Distribution of {feature}')\n",
    "    plt.xlabel(feature)\n",
    "    plt.ylabel('Frequency')\n",
    "    \n",
    "plt.tight_layout()\n",
    "plt.savefig(f\"{artifact_path}numerical_feature_distributions.png\")\n",
    "plt.show()\n"
   ]
  },
  {
   "cell_type": "markdown",
   "metadata": {
    "application/vnd.databricks.v1+cell": {
     "cellMetadata": {
      "byteLimit": 2048000,
      "rowLimit": 10000
     },
     "inputWidgets": {},
     "nuid": "f91923b7-0b3b-4004-957d-9cb37222c5c1",
     "showTitle": false,
     "tableResultSettingsMap": {},
     "title": ""
    }
   },
   "source": [
    "#### Bar charts for categorical features "
   ]
  },
  {
   "cell_type": "code",
   "execution_count": 0,
   "metadata": {
    "application/vnd.databricks.v1+cell": {
     "cellMetadata": {
      "byteLimit": 2048000,
      "rowLimit": 10000
     },
     "inputWidgets": {},
     "nuid": "0af92a40-17dc-4c57-ad21-5b9fa5c7cb23",
     "showTitle": false,
     "tableResultSettingsMap": {},
     "title": ""
    }
   },
   "outputs": [],
   "source": [
    "categorical_cols = df.select_dtypes(include=['object']).columns.tolist()\n",
    "categorical_cols.remove('CustomerID')\n",
    "\n",
    "# Create subplots\n",
    "fig, axes = plt.subplots(2, 2, figsize=(14, 10))\n",
    "axes = axes.flatten()\n",
    "\n",
    "# Plot each categorical variable\n",
    "for i, col in enumerate(categorical_cols):\n",
    "    sns.countplot(x=col, data=df, palette='pastel', ax=axes[i])\n",
    "    axes[i].set_title(f'Distribution of {col}', fontsize=14)\n",
    "    axes[i].set_xlabel(col)\n",
    "    axes[i].set_ylabel('Number of Customers')\n",
    "    axes[i].tick_params(axis='x', rotation=30)  # Rotate x-axis labels\n",
    "\n",
    "# Adjust layout\n",
    "plt.tight_layout()\n",
    "plt.savefig(f\"{artifact_path}categorical_feature_distributions.png\")\n",
    "plt.show()"
   ]
  },
  {
   "cell_type": "markdown",
   "metadata": {
    "application/vnd.databricks.v1+cell": {
     "cellMetadata": {
      "byteLimit": 2048000,
      "rowLimit": 10000
     },
     "inputWidgets": {},
     "nuid": "ab2e9597-ca09-4004-b450-3a3c7d18e447",
     "showTitle": false,
     "tableResultSettingsMap": {},
     "title": ""
    }
   },
   "source": [
    "#### Correlation heatmap for numerical features"
   ]
  },
  {
   "cell_type": "code",
   "execution_count": 0,
   "metadata": {
    "application/vnd.databricks.v1+cell": {
     "cellMetadata": {
      "byteLimit": 2048000,
      "rowLimit": 10000
     },
     "inputWidgets": {},
     "nuid": "bb8b8e89-676c-4d7e-852c-f6610c50c38d",
     "showTitle": false,
     "tableResultSettingsMap": {},
     "title": ""
    }
   },
   "outputs": [],
   "source": [
    "df_corr = df[numerical_features].copy()\n",
    "df_corr['Tenure'] = df['Tenure'].astype(int)\n",
    "df_corr['MonthlyCharges'] = df['MonthlyCharges'].astype(int)\n",
    "df_corr['TotalCharges'] = df['TotalCharges'].astype(int)"
   ]
  },
  {
   "cell_type": "code",
   "execution_count": 0,
   "metadata": {
    "application/vnd.databricks.v1+cell": {
     "cellMetadata": {
      "byteLimit": 2048000,
      "rowLimit": 10000
     },
     "inputWidgets": {},
     "nuid": "a93d7f49-1dcd-46bd-a366-5e497e800f9c",
     "showTitle": false,
     "tableResultSettingsMap": {},
     "title": ""
    }
   },
   "outputs": [],
   "source": [
    "plt.figure(figsize=(10, 8))\n",
    "sns.heatmap(df_corr.corr(), annot=True, cmap='coolwarm', fmt=\".2f\")\n",
    "plt.title('Correlation Heatmap of Numerical Features')\n",
    "plt.savefig(f\"{artifact_path}correlation_heatmap.png\")\n",
    "plt.show()"
   ]
  },
  {
   "cell_type": "markdown",
   "metadata": {
    "application/vnd.databricks.v1+cell": {
     "cellMetadata": {
      "byteLimit": 2048000,
      "rowLimit": 10000
     },
     "inputWidgets": {},
     "nuid": "a34b9048-5237-4512-be22-99cdddf9fe81",
     "showTitle": false,
     "tableResultSettingsMap": {},
     "title": ""
    }
   },
   "source": [
    "## Data Preprocessing"
   ]
  },
  {
   "cell_type": "markdown",
   "metadata": {
    "application/vnd.databricks.v1+cell": {
     "cellMetadata": {
      "byteLimit": 2048000,
      "rowLimit": 10000
     },
     "inputWidgets": {},
     "nuid": "ba31df46-8183-4c0c-9729-1b3550821307",
     "showTitle": false,
     "tableResultSettingsMap": {},
     "title": ""
    }
   },
   "source": [
    "### In Preprocessing step we will do following operations:\n",
    "\n",
    "* Define features (X) and target (y)\n",
    "* Handle Categorical Data: Convert categorical features into numerical format using One-Hot Encoding.\n",
    "* Feature Scaling: Apply StandardScaler numerical features.\n",
    "* Divide data into a training set and a testing set."
   ]
  },
  {
   "cell_type": "markdown",
   "metadata": {
    "application/vnd.databricks.v1+cell": {
     "cellMetadata": {
      "byteLimit": 2048000,
      "rowLimit": 10000
     },
     "inputWidgets": {},
     "nuid": "dfb3a6bf-87c2-4128-b374-e2ede377a4ce",
     "showTitle": false,
     "tableResultSettingsMap": {},
     "title": ""
    }
   },
   "source": [
    "#### Define features (X) and target (y)"
   ]
  },
  {
   "cell_type": "code",
   "execution_count": 0,
   "metadata": {
    "application/vnd.databricks.v1+cell": {
     "cellMetadata": {
      "byteLimit": 2048000,
      "rowLimit": 10000
     },
     "inputWidgets": {},
     "nuid": "f6411d69-feab-46af-bfd9-daa24a48a347",
     "showTitle": false,
     "tableResultSettingsMap": {},
     "title": ""
    }
   },
   "outputs": [],
   "source": [
    "print(\"Droping user_id as it iss an identifier and not a predictive feature\")\n",
    "X = df.drop(['CustomerID', 'Churn'], axis=1) # Features\n",
    "\n",
    "y = df['Churn'] # Target Variable"
   ]
  },
  {
   "cell_type": "markdown",
   "metadata": {
    "application/vnd.databricks.v1+cell": {
     "cellMetadata": {
      "byteLimit": 2048000,
      "rowLimit": 10000
     },
     "inputWidgets": {},
     "nuid": "dd957ef8-4c25-4c5a-aa0c-0ecdf0706508",
     "showTitle": false,
     "tableResultSettingsMap": {},
     "title": ""
    }
   },
   "source": [
    "#### Convert categorical features into numerical format using One-Hot Encoding"
   ]
  },
  {
   "cell_type": "code",
   "execution_count": 0,
   "metadata": {
    "application/vnd.databricks.v1+cell": {
     "cellMetadata": {
      "byteLimit": 2048000,
      "rowLimit": 10000
     },
     "inputWidgets": {},
     "nuid": "453e279d-a05d-4249-a6f8-d3f8e5a4ee31",
     "showTitle": false,
     "tableResultSettingsMap": {},
     "title": ""
    }
   },
   "outputs": [],
   "source": [
    "from sklearn.preprocessing import OneHotEncoder\n",
    "import joblib\n",
    "\n",
    "\n"
   ]
  },
  {
   "cell_type": "code",
   "execution_count": 0,
   "metadata": {
    "application/vnd.databricks.v1+cell": {
     "cellMetadata": {
      "byteLimit": 2048000,
      "rowLimit": 10000
     },
     "inputWidgets": {},
     "nuid": "14d9bf2e-dce2-49d4-92e7-235b7c7e4f4e",
     "showTitle": false,
     "tableResultSettingsMap": {},
     "title": ""
    }
   },
   "outputs": [],
   "source": [
    "from sklearn.preprocessing import OneHotEncoder\n",
    "import joblib\n",
    "\n",
    "categorical_cols = ['Gender', 'ContractType', 'PaymentMethod']\n",
    "\n",
    "# Correct way for scikit-learn 1.2+\n",
    "encoder = OneHotEncoder(handle_unknown='ignore', sparse=True)\n",
    "encoder.fit(X[categorical_cols])\n",
    "\n",
    "# Save the encoder\n",
    "joblib.dump(encoder, 'encoder.pkl')\n",
    "\n",
    "\n",
    "# Identify categorical columns for one-hot encoding\n",
    "categorical_cols =['Gender','ContractType','PaymentMethod']\n",
    "\n",
    "\n",
    "# Apply One-Hot Encoding\n",
    "X = pd.get_dummies(X, columns=categorical_cols, drop_first=True) # drop_first avoids multicollinearity\n",
    "\n",
    "print(\"\\nFeatures after One-Hot Encoding and Boolean Conversion:\")\n",
    "print(X.head())\n",
    "print(f\"Shape after encoding: {X.shape}\")\n"
   ]
  },
  {
   "cell_type": "code",
   "execution_count": 0,
   "metadata": {
    "application/vnd.databricks.v1+cell": {
     "cellMetadata": {
      "byteLimit": 2048000,
      "rowLimit": 10000
     },
     "inputWidgets": {},
     "nuid": "34267014-468c-4b9c-974e-0cf2032e5878",
     "showTitle": false,
     "tableResultSettingsMap": {},
     "title": ""
    }
   },
   "outputs": [],
   "source": [
    "X"
   ]
  },
  {
   "cell_type": "markdown",
   "metadata": {
    "application/vnd.databricks.v1+cell": {
     "cellMetadata": {
      "byteLimit": 2048000,
      "rowLimit": 10000
     },
     "inputWidgets": {},
     "nuid": "bab28133-923e-478b-9e1f-c4da8fc11f8f",
     "showTitle": false,
     "tableResultSettingsMap": {},
     "title": ""
    }
   },
   "source": [
    "#### Scaling - of numerical features."
   ]
  },
  {
   "cell_type": "markdown",
   "metadata": {
    "application/vnd.databricks.v1+cell": {
     "cellMetadata": {
      "byteLimit": 2048000,
      "rowLimit": 10000
     },
     "inputWidgets": {},
     "nuid": "cc3a7daa-6568-4574-a5df-2584e32a4438",
     "showTitle": false,
     "tableResultSettingsMap": {},
     "title": ""
    }
   },
   "source": [
    "Explanation for Feature Scaling:\n",
    "\n",
    "Feature scaling is crucial because many machine learning algorithms (like Logistic Regression, SVMs, Neural Networks, and even distance-based algorithms like K-Nearest Neighbors) are sensitive to the magnitude and range of input features.\n",
    "If features have vastly different scales, the feature with a larger range might dominate the cost function or distance calculations, leading to suboptimal model performance.\n",
    "StandardScaler transforms the data to have a mean of 0 and a standard deviation of 1. This ensures that all features contribute equally to the model, preventing features with larger numerical values from disproportionately influencing the model's learning process.\n",
    "For tree-based models like Random Forest, scaling is less critical but can sometimes still offer minor benefits or consistency in pipelines.\n"
   ]
  },
  {
   "cell_type": "code",
   "execution_count": 0,
   "metadata": {
    "application/vnd.databricks.v1+cell": {
     "cellMetadata": {
      "byteLimit": 2048000,
      "rowLimit": 10000
     },
     "inputWidgets": {},
     "nuid": "897363e5-3414-49b0-ab20-cb45051894ac",
     "showTitle": false,
     "tableResultSettingsMap": {},
     "title": ""
    }
   },
   "outputs": [],
   "source": [
    "# Identify numerical features that need scaling (excluding the one-hot encoded ones which are already 0/1)\n",
    "# 'age', 'monthly_watch_hours', 'devices_used', 'customer_support_calls', 'last_active_days_ago'\n",
    "\n",
    "features_to_scale = ['Age', 'Tenure', 'MonthlyCharges', 'TotalCharges']\n",
    "\n",
    "scaler = StandardScaler()\n",
    "X[features_to_scale] = scaler.fit_transform(X[features_to_scale])\n",
    "\n",
    "print(\"\\nFeatures after Scaling (first 5 rows of scaled columns):\")\n",
    "print(X[features_to_scale].head())"
   ]
  },
  {
   "cell_type": "markdown",
   "metadata": {
    "application/vnd.databricks.v1+cell": {
     "cellMetadata": {
      "byteLimit": 2048000,
      "rowLimit": 10000
     },
     "inputWidgets": {},
     "nuid": "d14315e2-50d6-47d9-978f-bea9b1dcd984",
     "showTitle": false,
     "tableResultSettingsMap": {},
     "title": ""
    }
   },
   "source": [
    "#### Data Split: into a training set and a testing set."
   ]
  },
  {
   "cell_type": "code",
   "execution_count": 0,
   "metadata": {
    "application/vnd.databricks.v1+cell": {
     "cellMetadata": {
      "byteLimit": 2048000,
      "rowLimit": 10000
     },
     "inputWidgets": {},
     "nuid": "8ce949e9-92c9-4d72-b2f9-3acdf3277019",
     "showTitle": false,
     "tableResultSettingsMap": {},
     "title": ""
    }
   },
   "outputs": [],
   "source": [
    "X_train, X_test, y_train, y_test = train_test_split(X, y, test_size=0.25, random_state=42, stratify=y)\n",
    "\n",
    "print(f\"\\nTraining set shape (X_train, y_train): {X_train.shape}, {y_train.shape}\")\n",
    "print(f\"Testing set shape (X_test, y_test): {X_test.shape}, {y_test.shape}\")"
   ]
  },
  {
   "cell_type": "markdown",
   "metadata": {
    "application/vnd.databricks.v1+cell": {
     "cellMetadata": {
      "byteLimit": 2048000,
      "rowLimit": 10000
     },
     "inputWidgets": {},
     "nuid": "671302ff-c16c-4e65-96a0-ab399877dd19",
     "showTitle": false,
     "tableResultSettingsMap": {},
     "title": ""
    }
   },
   "source": [
    "#### Logging the data and EDA into MLFLow"
   ]
  },
  {
   "cell_type": "code",
   "execution_count": 0,
   "metadata": {
    "application/vnd.databricks.v1+cell": {
     "cellMetadata": {
      "byteLimit": 2048000,
      "rowLimit": 10000
     },
     "inputWidgets": {},
     "nuid": "5d300bfc-0fae-4dbd-ab9e-d5a527298df8",
     "showTitle": false,
     "tableResultSettingsMap": {},
     "title": ""
    }
   },
   "outputs": [],
   "source": [
    "f'{artifact_path}raw_data.csv'"
   ]
  },
  {
   "cell_type": "code",
   "execution_count": 0,
   "metadata": {
    "application/vnd.databricks.v1+cell": {
     "cellMetadata": {
      "byteLimit": 2048000,
      "rowLimit": 10000
     },
     "inputWidgets": {},
     "nuid": "4bae3948-aaf8-4328-aa87-e34ef04895f3",
     "showTitle": false,
     "tableResultSettingsMap": {},
     "title": ""
    }
   },
   "outputs": [],
   "source": [
    "# with mlflow.start_run(run_name=\"01_RawData_and_EDA\"):\n",
    "    \n",
    "#     # Logging the raw data and summary statistics\n",
    "#     mlflow.log_artifact(f\"{artifact_path}raw_data.csv\", artifact_path=\"data\")\n",
    "#     mlflow.log_artifact(f\"{artifact_path}summary_statistics.csv\", artifact_path=\"eda\")\n",
    "\n",
    "#     # Log all EDA visualizations\n",
    "#     for file in os.listdir(\"artifacts\"):\n",
    "#         if file.endswith(\".png\"):\n",
    "#             mlflow.log_artifact(os.path.join(\"artifacts\", file), artifact_path=\"eda\")"
   ]
  },
  {
   "cell_type": "markdown",
   "metadata": {
    "application/vnd.databricks.v1+cell": {
     "cellMetadata": {
      "byteLimit": 2048000,
      "rowLimit": 10000
     },
     "inputWidgets": {},
     "nuid": "738b6cd4-0680-49ea-a08b-e05d6498c7d6",
     "showTitle": false,
     "tableResultSettingsMap": {},
     "title": ""
    }
   },
   "source": [
    "## MLFlow Individual Model Logging"
   ]
  },
  {
   "cell_type": "markdown",
   "metadata": {
    "application/vnd.databricks.v1+cell": {
     "cellMetadata": {
      "byteLimit": 2048000,
      "rowLimit": 10000
     },
     "inputWidgets": {},
     "nuid": "4d670e48-dc5f-415b-94d4-9fd644edcebb",
     "showTitle": false,
     "tableResultSettingsMap": {},
     "title": ""
    }
   },
   "source": [
    "#### Defining the individual models and the variables"
   ]
  },
  {
   "cell_type": "code",
   "execution_count": 0,
   "metadata": {
    "application/vnd.databricks.v1+cell": {
     "cellMetadata": {
      "byteLimit": 2048000,
      "rowLimit": 10000
     },
     "inputWidgets": {},
     "nuid": "8af71bdf-9e30-47e0-99b6-447620dc5a4b",
     "showTitle": false,
     "tableResultSettingsMap": {},
     "title": ""
    }
   },
   "outputs": [],
   "source": [
    "models = {\n",
    "    \"LogisticRegression\": LogisticRegression(max_iter=1000),\n",
    "    \"RandomForest\": RandomForestClassifier(n_estimators=100, random_state=42)\n",
    "}\n",
    "\n",
    "best_recall = -1\n",
    "best_model = None\n",
    "best_model_name = None"
   ]
  },
  {
   "cell_type": "markdown",
   "metadata": {
    "application/vnd.databricks.v1+cell": {
     "cellMetadata": {
      "byteLimit": 2048000,
      "rowLimit": 10000
     },
     "inputWidgets": {},
     "nuid": "02b5e819-49a4-4eeb-b00c-293643298afd",
     "showTitle": false,
     "tableResultSettingsMap": {},
     "title": ""
    }
   },
   "source": [
    "#### All Individual Model Logging Run Training and Testing"
   ]
  },
  {
   "cell_type": "code",
   "execution_count": 0,
   "metadata": {
    "application/vnd.databricks.v1+cell": {
     "cellMetadata": {
      "byteLimit": 2048000,
      "rowLimit": 10000
     },
     "inputWidgets": {},
     "nuid": "e00a894a-85f6-4133-952b-8b4a1e571eeb",
     "showTitle": false,
     "tableResultSettingsMap": {},
     "title": ""
    }
   },
   "outputs": [],
   "source": [
    "from sklearn.metrics import auc, precision_recall_curve, roc_curve\n",
    "\n",
    "# Convert y_test and y_pred to binary format for metrics\n",
    "y_test_bin = y_test.map({'No': 0, 'Yes': 1})\n",
    "\n",
    "with mlflow.start_run(run_name=\"02_AllModels_Metrics\"):\n",
    "    for name, model in models.items():\n",
    "        model.fit(X_train, y_train)\n",
    "        y_pred = model.predict(X_test)\n",
    "        y_pred_bin = pd.Series(y_pred).map({'No': 0, 'Yes': 1}).values\n",
    "        y_proba = model.predict_proba(X_test)[:, 1]\n",
    "\n",
    "        # Metrics\n",
    "        acc = accuracy_score(y_test, y_pred)\n",
    "        prec = precision_score(y_test_bin, y_pred_bin)\n",
    "        rec = recall_score(y_test_bin, y_pred_bin)\n",
    "        f1 = f1_score(y_test_bin, y_pred_bin)\n",
    "\n",
    "        # Log metrics per model\n",
    "        mlflow.log_metric(f\"{name}_accuracy\", acc)\n",
    "        mlflow.log_metric(f\"{name}_precision\", prec)\n",
    "        mlflow.log_metric(f\"{name}_recall\", rec)\n",
    "        mlflow.log_metric(f\"{name}_f1\", f1)\n",
    "\n",
    "        # Confusion Matrix\n",
    "        cm = confusion_matrix(y_test_bin, y_pred_bin)\n",
    "        plt.figure()\n",
    "        sns.heatmap(cm, annot=True, fmt=\"d\", cmap=\"Blues\")\n",
    "        plt.title(f\"Confusion Matrix - {name}\")\n",
    "        plt.xlabel(\"Predicted\")\n",
    "        plt.ylabel(\"Actual\")\n",
    "        cm_file = f\"conf_matrix_{name}.png\"\n",
    "        plt.savefig(cm_file)\n",
    "        mlflow.log_artifact(cm_file, artifact_path=\"confusion_matrices\")\n",
    "\n",
    "        # ROC Curve\n",
    "        fpr, tpr, _ = roc_curve(y_test_bin, y_proba)\n",
    "        roc_auc = auc(fpr, tpr)\n",
    "        plt.figure()\n",
    "        plt.plot(fpr, tpr, label=f\"AUC = {roc_auc:.2f}\")\n",
    "        plt.plot([0, 1], [0, 1], 'r--')\n",
    "        plt.xlabel(\"False Positive Rate\")\n",
    "        plt.ylabel(\"True Positive Rate\")\n",
    "        plt.title(f\"ROC Curve - {name}\")\n",
    "        plt.legend()\n",
    "        roc_file = f\"roc_curve_{name}.png\"\n",
    "        plt.savefig(roc_file)\n",
    "        mlflow.log_artifact(roc_file, artifact_path=\"roc_curves\")\n",
    "\n",
    "        # Precision-Recall Curve\n",
    "        precision_vals, recall_vals, _ = precision_recall_curve(y_test_bin, y_proba)\n",
    "        plt.figure()\n",
    "        plt.plot(recall_vals, precision_vals, label=name)\n",
    "        plt.xlabel(\"Recall\")\n",
    "        plt.ylabel(\"Precision\")\n",
    "        plt.title(f\"Precision-Recall Curve - {name}\")\n",
    "        pr_file = f\"pr_curve_{name}.png\"\n",
    "        plt.savefig(pr_file)\n",
    "        mlflow.log_artifact(pr_file, artifact_path=\"precision_recall_curves\")\n",
    "\n",
    "        # Track best model\n",
    "        if rec > best_recall:\n",
    "            best_recall = rec\n",
    "            best_model_name = name\n",
    "            best_model = model"
   ]
  },
  {
   "cell_type": "markdown",
   "metadata": {
    "application/vnd.databricks.v1+cell": {
     "cellMetadata": {
      "byteLimit": 2048000,
      "rowLimit": 10000
     },
     "inputWidgets": {},
     "nuid": "aa62c7b8-d6ef-4771-906e-09eb7cbb5084",
     "showTitle": false,
     "tableResultSettingsMap": {},
     "title": ""
    }
   },
   "source": [
    "#### MLFlow run for logging the base model"
   ]
  },
  {
   "cell_type": "code",
   "execution_count": 0,
   "metadata": {
    "application/vnd.databricks.v1+cell": {
     "cellMetadata": {
      "byteLimit": 2048000,
      "rowLimit": 10000
     },
     "inputWidgets": {},
     "nuid": "309fbde1-3fdc-4ee4-b342-131cfc1376f9",
     "showTitle": false,
     "tableResultSettingsMap": {},
     "title": ""
    }
   },
   "outputs": [],
   "source": [
    "import pickle\n",
    "\n",
    "\n",
    "with mlflow.start_run(run_name=f\"03_BestModel_{best_model_name}\"):\n",
    "    mlflow.log_param(\"model_name\", best_model_name)\n",
    "    mlflow.log_metric(\"best_recall\", best_recall)\n",
    "\n",
    "    # Save and register best model\n",
    "    mlflow.sklearn.log_model(\n",
    "        sk_model=best_model,\n",
    "        artifact_path=\"model\",\n",
    "        registered_model_name=\"BestChurnModel_by_Recall\"\n",
    "    )\n",
    "\n",
    "    # Also save explicit pkl\n",
    "    with open(\"best_model.pkl\", \"wb\") as f:\n",
    "        pickle.dump(best_model, f)\n",
    "    mlflow.log_artifact(\"best_model.pkl\", artifact_path=\"model\")"
   ]
  },
  {
   "cell_type": "markdown",
   "metadata": {
    "application/vnd.databricks.v1+cell": {
     "cellMetadata": {
      "byteLimit": 2048000,
      "rowLimit": 10000
     },
     "inputWidgets": {},
     "nuid": "a584d35a-d3e7-47b6-9811-0cb1c548d735",
     "showTitle": false,
     "tableResultSettingsMap": {},
     "title": ""
    }
   },
   "source": [
    "#### Running the MLFlow UI"
   ]
  },
  {
   "cell_type": "code",
   "execution_count": 0,
   "metadata": {
    "application/vnd.databricks.v1+cell": {
     "cellMetadata": {
      "byteLimit": 2048000,
      "rowLimit": 10000
     },
     "inputWidgets": {},
     "nuid": "09812989-1ce6-4749-93ef-2b8de5020fc9",
     "showTitle": false,
     "tableResultSettingsMap": {},
     "title": ""
    }
   },
   "outputs": [],
   "source": [
    "import mlflow\n",
    "tracking = mlflow.get_tracking_uri()\n",
    "tracking"
   ]
  },
  {
   "cell_type": "code",
   "execution_count": 0,
   "metadata": {
    "application/vnd.databricks.v1+cell": {
     "cellMetadata": {
      "byteLimit": 2048000,
      "rowLimit": 10000
     },
     "inputWidgets": {},
     "nuid": "f2899670-34fd-4c49-a54d-197480b4e5e3",
     "showTitle": false,
     "tableResultSettingsMap": {},
     "title": ""
    }
   },
   "outputs": [],
   "source": [
    "import subprocess\n",
    "\n",
    "# Launch MLflow UI\n",
    "subprocess.Popen([\n",
    "    \"mlflow\", \"ui\",\n",
    "    \"--port\", \"5000\",\n",
    "    \"--backend-store-uri\", tracking\n",
    "])"
   ]
  },
  {
   "cell_type": "code",
   "execution_count": 0,
   "metadata": {
    "application/vnd.databricks.v1+cell": {
     "cellMetadata": {
      "byteLimit": 2048000,
      "rowLimit": 10000
     },
     "inputWidgets": {},
     "nuid": "60354e4e-4b7f-4be3-919a-030854a6f72b",
     "showTitle": false,
     "tableResultSettingsMap": {},
     "title": ""
    }
   },
   "outputs": [],
   "source": [
    "!pkill -f \"mlflow ui\""
   ]
  },
  {
   "cell_type": "code",
   "execution_count": 0,
   "metadata": {
    "application/vnd.databricks.v1+cell": {
     "cellMetadata": {
      "byteLimit": 2048000,
      "rowLimit": 10000
     },
     "inputWidgets": {},
     "nuid": "2637d3a8-6085-41af-b2cc-4fc58151cfc0",
     "showTitle": false,
     "tableResultSettingsMap": {},
     "title": ""
    }
   },
   "outputs": [],
   "source": [
    "!mlflow ui --port 5000 --backend-store-uri \"file:///c:/Users/Charu%20Anant%20Rajput/OneDrive/Desktop/BITS%20Study%20Mateials/BITS%20Sem2/DataManagementForML/Assignment/DMML_Assignment/MLFlow/mlruns\""
   ]
  },
  {
   "cell_type": "code",
   "execution_count": 0,
   "metadata": {
    "application/vnd.databricks.v1+cell": {
     "cellMetadata": {
      "byteLimit": 2048000,
      "rowLimit": 10000
     },
     "inputWidgets": {},
     "nuid": "8979c39f-3f70-49a9-83fe-3d0a436edef3",
     "showTitle": false,
     "tableResultSettingsMap": {},
     "title": ""
    }
   },
   "outputs": [],
   "source": []
  }
 ],
 "metadata": {
  "application/vnd.databricks.v1+notebook": {
   "computePreferences": null,
   "dashboards": [],
   "environmentMetadata": null,
   "inputWidgetPreferences": null,
   "language": "python",
   "notebookMetadata": {
    "pythonIndentUnit": 4
   },
   "notebookName": "CHURN_MODEL_TRAINING",
   "widgets": {}
  },
  "kernelspec": {
   "display_name": "Python 3",
   "language": "python",
   "name": "python3"
  },
  "language_info": {
   "name": "python"
  }
 },
 "nbformat": 4,
 "nbformat_minor": 0
}
