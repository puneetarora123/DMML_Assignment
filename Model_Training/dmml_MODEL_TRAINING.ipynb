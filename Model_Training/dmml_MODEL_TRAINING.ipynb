{
 "cells": [
  {
   "cell_type": "markdown",
   "metadata": {
    "application/vnd.databricks.v1+cell": {
     "cellMetadata": {},
     "inputWidgets": {},
     "nuid": "919042d4-9cb4-4f3c-861f-978ff7bb1df4",
     "showTitle": false,
     "tableResultSettingsMap": {},
     "title": ""
    }
   },
   "source": [
    "### Import the Required Libraries - Pandas, Numpy, Matplotlib, Sklearn etc"
   ]
  },
  {
   "cell_type": "code",
   "execution_count": 0,
   "metadata": {
    "application/vnd.databricks.v1+cell": {
     "cellMetadata": {},
     "inputWidgets": {},
     "nuid": "c2e95848-3470-4358-a1b9-6b3bc3561ba7",
     "showTitle": false,
     "tableResultSettingsMap": {},
     "title": ""
    }
   },
   "outputs": [],
   "source": [
    "import pandas as pd\n",
    "import numpy as np\n",
    "import matplotlib.pyplot as plt\n",
    "import seaborn as sns\n",
    "from sklearn.model_selection import train_test_split\n",
    "from sklearn.preprocessing import StandardScaler, MinMaxScaler, LabelEncoder\n",
    "from sklearn.linear_model import LogisticRegression\n",
    "from sklearn.ensemble import RandomForestClassifier\n",
    "from sklearn.metrics import accuracy_score, precision_score, recall_score, f1_score, confusion_matrix"
   ]
  },
  {
   "cell_type": "markdown",
   "metadata": {
    "application/vnd.databricks.v1+cell": {
     "cellMetadata": {},
     "inputWidgets": {},
     "nuid": "0895a65d-89bd-4527-9441-487297b475e9",
     "showTitle": false,
     "tableResultSettingsMap": {},
     "title": ""
    }
   },
   "source": [
    "### Loading theChurn Dataset "
   ]
  },
  {
   "cell_type": "code",
   "execution_count": 0,
   "metadata": {
    "application/vnd.databricks.v1+cell": {
     "cellMetadata": {},
     "inputWidgets": {},
     "nuid": "22eb2411-905b-4636-889b-1ea867ea21a1",
     "showTitle": false,
     "tableResultSettingsMap": {},
     "title": ""
    }
   },
   "outputs": [],
   "source": [
    "import warnings\n",
    "warnings.filterwarnings('ignore')"
   ]
  },
  {
   "cell_type": "code",
   "execution_count": 0,
   "metadata": {
    "application/vnd.databricks.v1+cell": {
     "cellMetadata": {},
     "inputWidgets": {},
     "nuid": "54d21f12-8a5e-40d7-aa4c-cb84f7354919",
     "showTitle": false,
     "tableResultSettingsMap": {},
     "title": ""
    }
   },
   "outputs": [],
   "source": [
    "try:\n",
    "    df = pd.read_csv('DMML_TRAINING_DATA_churn_data.csv')\n",
    "    print(\"Dataset loaded successfully.\")\n",
    "except FileNotFoundError:\n",
    "    print(\"Error: FILE not found. Please ensure the file is in the same directory.\")\n",
    "    exit() # Exit if the file is not found"
   ]
  },
  {
   "cell_type": "markdown",
   "metadata": {
    "application/vnd.databricks.v1+cell": {
     "cellMetadata": {},
     "inputWidgets": {},
     "nuid": "03612c5e-f79c-4b09-94f7-a830bf925759",
     "showTitle": false,
     "tableResultSettingsMap": {},
     "title": ""
    }
   },
   "source": [
    "## Data Exploration and Visualization -Performing initial analysis"
   ]
  },
  {
   "cell_type": "markdown",
   "metadata": {
    "application/vnd.databricks.v1+cell": {
     "cellMetadata": {},
     "inputWidgets": {},
     "nuid": "92f67034-9061-4f4a-a746-827fa2b684c8",
     "showTitle": false,
     "tableResultSettingsMap": {},
     "title": ""
    }
   },
   "source": [
    "#### Display the first 5 rows of the dataframe"
   ]
  },
  {
   "cell_type": "code",
   "execution_count": 0,
   "metadata": {
    "application/vnd.databricks.v1+cell": {
     "cellMetadata": {},
     "inputWidgets": {},
     "nuid": "5c885d1e-9763-4c47-99ce-d3ab5197ec22",
     "showTitle": false,
     "tableResultSettingsMap": {},
     "title": ""
    }
   },
   "outputs": [],
   "source": [
    "print(\"\\nInitial Data Head:\")\n",
    "print(df.head())"
   ]
  },
  {
   "cell_type": "markdown",
   "metadata": {
    "application/vnd.databricks.v1+cell": {
     "cellMetadata": {},
     "inputWidgets": {},
     "nuid": "61182dff-5f3d-4ed7-9605-7ed49264aef2",
     "showTitle": false,
     "tableResultSettingsMap": {},
     "title": ""
    }
   },
   "source": [
    "#### Data Information & schema"
   ]
  },
  {
   "cell_type": "code",
   "execution_count": 0,
   "metadata": {
    "application/vnd.databricks.v1+cell": {
     "cellMetadata": {},
     "inputWidgets": {},
     "nuid": "c2537d8d-5a28-4d35-b366-aa9a232d84b7",
     "showTitle": false,
     "tableResultSettingsMap": {},
     "title": ""
    }
   },
   "outputs": [],
   "source": [
    "df.info()"
   ]
  },
  {
   "cell_type": "markdown",
   "metadata": {
    "application/vnd.databricks.v1+cell": {
     "cellMetadata": {},
     "inputWidgets": {},
     "nuid": "9f20f7b2-9d17-4e53-912a-8f403d72bfd6",
     "showTitle": false,
     "tableResultSettingsMap": {},
     "title": ""
    }
   },
   "source": [
    "#### Descriptive Statistics: includes count, mean , std and 5 point summary for all numeric columns"
   ]
  },
  {
   "cell_type": "code",
   "execution_count": 0,
   "metadata": {
    "application/vnd.databricks.v1+cell": {
     "cellMetadata": {},
     "inputWidgets": {},
     "nuid": "9daa1092-a1ce-429c-9ea1-79e8ef8fe4ca",
     "showTitle": false,
     "tableResultSettingsMap": {},
     "title": ""
    }
   },
   "outputs": [],
   "source": [
    "print(df.describe())"
   ]
  },
  {
   "cell_type": "markdown",
   "metadata": {
    "application/vnd.databricks.v1+cell": {
     "cellMetadata": {},
     "inputWidgets": {},
     "nuid": "4a584ad8-2378-42b6-bb55-55a749fdc5cb",
     "showTitle": false,
     "tableResultSettingsMap": {},
     "title": ""
    }
   },
   "source": [
    "#### checking for Missing Values"
   ]
  },
  {
   "cell_type": "code",
   "execution_count": 0,
   "metadata": {
    "application/vnd.databricks.v1+cell": {
     "cellMetadata": {},
     "inputWidgets": {},
     "nuid": "864e8167-e51b-441a-9a70-ec1496f9ac0e",
     "showTitle": false,
     "tableResultSettingsMap": {},
     "title": ""
    }
   },
   "outputs": [],
   "source": [
    "print(df.isnull().sum())"
   ]
  },
  {
   "cell_type": "markdown",
   "metadata": {
    "application/vnd.databricks.v1+cell": {
     "cellMetadata": {},
     "inputWidgets": {},
     "nuid": "451eb48f-8a24-4bf0-8945-5496d0955ce9",
     "showTitle": false,
     "tableResultSettingsMap": {},
     "title": ""
    }
   },
   "source": [
    "## Data cleaning"
   ]
  },
  {
   "cell_type": "markdown",
   "metadata": {
    "application/vnd.databricks.v1+cell": {
     "cellMetadata": {},
     "inputWidgets": {},
     "nuid": "2865ab21-caa4-4940-b0cb-694825449c8b",
     "showTitle": false,
     "tableResultSettingsMap": {},
     "title": ""
    }
   },
   "source": [
    "#### Checking for Duplicate user_ids"
   ]
  },
  {
   "cell_type": "code",
   "execution_count": 0,
   "metadata": {
    "application/vnd.databricks.v1+cell": {
     "cellMetadata": {},
     "inputWidgets": {},
     "nuid": "a4368037-a666-47d2-8e08-28a9043483c3",
     "showTitle": false,
     "tableResultSettingsMap": {},
     "title": ""
    }
   },
   "outputs": [],
   "source": [
    "print('Check for Duplicate CustomerID')\n",
    "\n",
    "if df['CustomerID'].duplicated().any():\n",
    "    print(\"\\nWarning: Duplicate user_ids found. Considering unique user_ids for analysis.\")\n",
    "    df.drop_duplicates(subset=['CustomerID'], inplace=True)\n",
    "    print(f\"Removed duplicates. New shape: {df.shape}\")\n",
    "else:\n",
    "    print('No Duplicate User id found')"
   ]
  },
  {
   "cell_type": "markdown",
   "metadata": {
    "application/vnd.databricks.v1+cell": {
     "cellMetadata": {},
     "inputWidgets": {},
     "nuid": "26e662e1-0835-4d0c-9efa-6f0340e4c748",
     "showTitle": false,
     "tableResultSettingsMap": {},
     "title": ""
    }
   },
   "source": [
    "### Bar chart for the distribution of Target Variable (Churn)"
   ]
  },
  {
   "cell_type": "code",
   "execution_count": 0,
   "metadata": {
    "application/vnd.databricks.v1+cell": {
     "cellMetadata": {},
     "inputWidgets": {},
     "nuid": "3c52bed4-decd-46e5-bf5a-af04c4d21c07",
     "showTitle": false,
     "tableResultSettingsMap": {},
     "title": ""
    }
   },
   "outputs": [],
   "source": [
    "\n",
    "# 1. Bar chart for the distribution of the target variable (will_churn)\n",
    "plt.figure(figsize=(7, 5))\n",
    "sns.countplot(x='Churn', data=df, palette='viridis')\n",
    "plt.title('Distribution of Target Variable (will_churn)')\n",
    "plt.xlabel('Will Churn')\n",
    "plt.ylabel('Number of Customers')\n",
    "plt.xticks(ticks=[0, 1], labels=['No Churn (FALSE)', 'Churn (TRUE)'])\n",
    "plt.show()"
   ]
  },
  {
   "cell_type": "markdown",
   "metadata": {
    "application/vnd.databricks.v1+cell": {
     "cellMetadata": {},
     "inputWidgets": {},
     "nuid": "62d61f30-91f6-4d12-b5b9-e2dc40c99028",
     "showTitle": false,
     "tableResultSettingsMap": {},
     "title": ""
    }
   },
   "source": [
    "### Checking the Distribution of Target Variable (Churn) "
   ]
  },
  {
   "cell_type": "code",
   "execution_count": 0,
   "metadata": {
    "application/vnd.databricks.v1+cell": {
     "cellMetadata": {},
     "inputWidgets": {},
     "nuid": "147b1800-653c-4450-bd01-73604954e9f6",
     "showTitle": false,
     "tableResultSettingsMap": {},
     "title": ""
    }
   },
   "outputs": [],
   "source": [
    "churn_counts = df['Churn'].value_counts()\n",
    "\n",
    "print(f\"\\nDistribution of 'will_churn':\\n{churn_counts}\")\n",
    "print(f\"Churn percentage: {churn_counts['Yes'] / len(df) * 100:.2f}%\")\n",
    "print(f\"\\nNo Churn percentage: {churn_counts['No'] / len(df) * 100:.2f}%\")\n",
    "\n",
    "if churn_counts['Yes'] / len(df) > 0.6 or churn_counts['Yes'] / len(df) < 0.4:\n",
    "    print(\"The dataset appears to be imbalanced.\")\n",
    "else:\n",
    "    print(\"The dataset appears to be relatively balanced.\")"
   ]
  },
  {
   "cell_type": "markdown",
   "metadata": {
    "application/vnd.databricks.v1+cell": {
     "cellMetadata": {},
     "inputWidgets": {},
     "nuid": "6a471cdf-c4df-4f56-80c7-550cbd3b3e27",
     "showTitle": false,
     "tableResultSettingsMap": {},
     "title": ""
    }
   },
   "source": [
    "### Histograms for numerical features"
   ]
  },
  {
   "cell_type": "code",
   "execution_count": 0,
   "metadata": {
    "application/vnd.databricks.v1+cell": {
     "cellMetadata": {},
     "inputWidgets": {},
     "nuid": "b8de6304-12fe-4c81-b4fc-cbb3b9930bd1",
     "showTitle": false,
     "tableResultSettingsMap": {},
     "title": ""
    }
   },
   "outputs": [],
   "source": [
    "\n",
    "numerical_features = ['Age', 'Tenure', 'MonthlyCharges', 'TotalCharges']\n",
    "\n",
    "plt.figure(figsize=(15, 5))\n",
    "\n",
    "for i, feature in enumerate(numerical_features):\n",
    "    plt.subplot(1, len(numerical_features), i + 1)\n",
    "    sns.histplot(df[feature], kde=True, bins=20, color='skyblue')\n",
    "    plt.title(f'Distribution of {feature}')\n",
    "    plt.xlabel(feature)\n",
    "    plt.ylabel('Frequency')\n",
    "    \n",
    "plt.tight_layout()\n",
    "plt.show()\n"
   ]
  },
  {
   "cell_type": "markdown",
   "metadata": {
    "application/vnd.databricks.v1+cell": {
     "cellMetadata": {},
     "inputWidgets": {},
     "nuid": "f91923b7-0b3b-4004-957d-9cb37222c5c1",
     "showTitle": false,
     "tableResultSettingsMap": {},
     "title": ""
    }
   },
   "source": [
    "### Bar charts for categorical features "
   ]
  },
  {
   "cell_type": "code",
   "execution_count": 0,
   "metadata": {
    "application/vnd.databricks.v1+cell": {
     "cellMetadata": {},
     "inputWidgets": {},
     "nuid": "0af92a40-17dc-4c57-ad21-5b9fa5c7cb23",
     "showTitle": false,
     "tableResultSettingsMap": {},
     "title": ""
    }
   },
   "outputs": [],
   "source": [
    "categorical_cols = df.select_dtypes(include=['object']).columns.tolist()\n",
    "categorical_cols.remove('CustomerID')\n",
    "\n",
    "# Create subplots\n",
    "fig, axes = plt.subplots(2, 2, figsize=(14, 10))\n",
    "axes = axes.flatten()\n",
    "\n",
    "# Plot each categorical variable\n",
    "for i, col in enumerate(categorical_cols):\n",
    "    sns.countplot(x=col, data=df, palette='pastel', ax=axes[i])\n",
    "    axes[i].set_title(f'Distribution of {col}', fontsize=14)\n",
    "    axes[i].set_xlabel(col)\n",
    "    axes[i].set_ylabel('Number of Customers')\n",
    "    axes[i].tick_params(axis='x', rotation=30)  # Rotate x-axis labels\n",
    "\n",
    "# Adjust layout\n",
    "plt.tight_layout()\n",
    "plt.show()"
   ]
  },
  {
   "cell_type": "markdown",
   "metadata": {
    "application/vnd.databricks.v1+cell": {
     "cellMetadata": {},
     "inputWidgets": {},
     "nuid": "ab2e9597-ca09-4004-b450-3a3c7d18e447",
     "showTitle": false,
     "tableResultSettingsMap": {},
     "title": ""
    }
   },
   "source": [
    " ### Correlation heatmap for numerical features"
   ]
  },
  {
   "cell_type": "code",
   "execution_count": 0,
   "metadata": {
    "application/vnd.databricks.v1+cell": {
     "cellMetadata": {},
     "inputWidgets": {},
     "nuid": "bb8b8e89-676c-4d7e-852c-f6610c50c38d",
     "showTitle": false,
     "tableResultSettingsMap": {},
     "title": ""
    }
   },
   "outputs": [],
   "source": [
    "df_corr = df[numerical_features].copy()\n",
    "df_corr['Tenure'] = df['Tenure'].astype(int)\n",
    "df_corr['MonthlyCharges'] = df['MonthlyCharges'].astype(int)\n",
    "df_corr['TotalCharges'] = df['TotalCharges'].astype(int)"
   ]
  },
  {
   "cell_type": "code",
   "execution_count": 0,
   "metadata": {
    "application/vnd.databricks.v1+cell": {
     "cellMetadata": {},
     "inputWidgets": {},
     "nuid": "a93d7f49-1dcd-46bd-a366-5e497e800f9c",
     "showTitle": false,
     "tableResultSettingsMap": {},
     "title": ""
    }
   },
   "outputs": [],
   "source": [
    "plt.figure(figsize=(10, 8))\n",
    "sns.heatmap(df_corr.corr(), annot=True, cmap='coolwarm', fmt=\".2f\")\n",
    "plt.title('Correlation Heatmap of Numerical Features')\n",
    "plt.show()"
   ]
  },
  {
   "cell_type": "markdown",
   "metadata": {
    "application/vnd.databricks.v1+cell": {
     "cellMetadata": {},
     "inputWidgets": {},
     "nuid": "a34b9048-5237-4512-be22-99cdddf9fe81",
     "showTitle": false,
     "tableResultSettingsMap": {},
     "title": ""
    }
   },
   "source": [
    "## Data Preprocessing"
   ]
  },
  {
   "cell_type": "markdown",
   "metadata": {
    "application/vnd.databricks.v1+cell": {
     "cellMetadata": {},
     "inputWidgets": {},
     "nuid": "ba31df46-8183-4c0c-9729-1b3550821307",
     "showTitle": false,
     "tableResultSettingsMap": {},
     "title": ""
    }
   },
   "source": [
    "### In Preprocessing step we will do following operations:\n",
    "\n",
    "* Define features (X) and target (y)\n",
    "* Handle Categorical Data: Convert categorical features into numerical format using One-Hot Encoding.\n",
    "* Feature Scaling: Apply StandardScaler numerical features.\n",
    "* Divide data into a training set and a testing set."
   ]
  },
  {
   "cell_type": "markdown",
   "metadata": {
    "application/vnd.databricks.v1+cell": {
     "cellMetadata": {},
     "inputWidgets": {},
     "nuid": "dfb3a6bf-87c2-4128-b374-e2ede377a4ce",
     "showTitle": false,
     "tableResultSettingsMap": {},
     "title": ""
    }
   },
   "source": [
    "#### Define features (X) and target (y)"
   ]
  },
  {
   "cell_type": "code",
   "execution_count": 0,
   "metadata": {
    "application/vnd.databricks.v1+cell": {
     "cellMetadata": {},
     "inputWidgets": {},
     "nuid": "f6411d69-feab-46af-bfd9-daa24a48a347",
     "showTitle": false,
     "tableResultSettingsMap": {},
     "title": ""
    }
   },
   "outputs": [],
   "source": [
    "print(\"Droping user_id as it iss an identifier and not a predictive feature\")\n",
    "X = df.drop(['CustomerID', 'Churn'], axis=1) # Features\n",
    "\n",
    "y = df['Churn'] # Target Variable "
   ]
  },
  {
   "cell_type": "markdown",
   "metadata": {
    "application/vnd.databricks.v1+cell": {
     "cellMetadata": {},
     "inputWidgets": {},
     "nuid": "dd957ef8-4c25-4c5a-aa0c-0ecdf0706508",
     "showTitle": false,
     "tableResultSettingsMap": {},
     "title": ""
    }
   },
   "source": [
    "#### Convert categorical features into numerical format using One-Hot Encoding"
   ]
  },
  {
   "cell_type": "code",
   "execution_count": 0,
   "metadata": {
    "application/vnd.databricks.v1+cell": {
     "cellMetadata": {},
     "inputWidgets": {},
     "nuid": "453e279d-a05d-4249-a6f8-d3f8e5a4ee31",
     "showTitle": false,
     "tableResultSettingsMap": {},
     "title": ""
    }
   },
   "outputs": [],
   "source": [
    "from sklearn.preprocessing import OneHotEncoder\n",
    "import joblib\n",
    "\n",
    "\n"
   ]
  },
  {
   "cell_type": "code",
   "execution_count": 0,
   "metadata": {
    "application/vnd.databricks.v1+cell": {
     "cellMetadata": {},
     "inputWidgets": {},
     "nuid": "14d9bf2e-dce2-49d4-92e7-235b7c7e4f4e",
     "showTitle": false,
     "tableResultSettingsMap": {},
     "title": ""
    }
   },
   "outputs": [],
   "source": [
    "from sklearn.preprocessing import OneHotEncoder\n",
    "import joblib\n",
    "\n",
    "categorical_cols = ['Gender', 'ContractType', 'PaymentMethod']\n",
    "\n",
    "# Correct way for scikit-learn 1.2+\n",
    "encoder = OneHotEncoder(handle_unknown='ignore', sparse_output=False)\n",
    "encoder.fit(X[categorical_cols])\n",
    "\n",
    "# Save the encoder\n",
    "joblib.dump(encoder, 'encoder.pkl')\n",
    "\n",
    "\n",
    "# Identify categorical columns for one-hot encoding\n",
    "categorical_cols =['Gender','ContractType','PaymentMethod']\n",
    "\n",
    "\n",
    "# Apply One-Hot Encoding\n",
    "X = pd.get_dummies(X, columns=categorical_cols, drop_first=True) # drop_first avoids multicollinearity\n",
    "\n",
    "print(\"\\nFeatures after One-Hot Encoding and Boolean Conversion:\")\n",
    "print(X.head())\n",
    "print(f\"Shape after encoding: {X.shape}\")\n"
   ]
  },
  {
   "cell_type": "code",
   "execution_count": 0,
   "metadata": {
    "application/vnd.databricks.v1+cell": {
     "cellMetadata": {},
     "inputWidgets": {},
     "nuid": "34267014-468c-4b9c-974e-0cf2032e5878",
     "showTitle": false,
     "tableResultSettingsMap": {},
     "title": ""
    }
   },
   "outputs": [],
   "source": [
    "X"
   ]
  },
  {
   "cell_type": "markdown",
   "metadata": {
    "application/vnd.databricks.v1+cell": {
     "cellMetadata": {},
     "inputWidgets": {},
     "nuid": "bab28133-923e-478b-9e1f-c4da8fc11f8f",
     "showTitle": false,
     "tableResultSettingsMap": {},
     "title": ""
    }
   },
   "source": [
    "#### Scaling - of numerical features."
   ]
  },
  {
   "cell_type": "markdown",
   "metadata": {
    "application/vnd.databricks.v1+cell": {
     "cellMetadata": {},
     "inputWidgets": {},
     "nuid": "cc3a7daa-6568-4574-a5df-2584e32a4438",
     "showTitle": false,
     "tableResultSettingsMap": {},
     "title": ""
    }
   },
   "source": [
    "Explanation for Feature Scaling:\n",
    "\n",
    "Feature scaling is crucial because many machine learning algorithms (like Logistic Regression, SVMs, Neural Networks, and even distance-based algorithms like K-Nearest Neighbors) are sensitive to the magnitude and range of input features.\n",
    "If features have vastly different scales, the feature with a larger range might dominate the cost function or distance calculations, leading to suboptimal model performance.\n",
    "StandardScaler transforms the data to have a mean of 0 and a standard deviation of 1. This ensures that all features contribute equally to the model, preventing features with larger numerical values from disproportionately influencing the model's learning process.\n",
    "For tree-based models like Random Forest, scaling is less critical but can sometimes still offer minor benefits or consistency in pipelines.\n"
   ]
  },
  {
   "cell_type": "code",
   "execution_count": 0,
   "metadata": {
    "application/vnd.databricks.v1+cell": {
     "cellMetadata": {},
     "inputWidgets": {},
     "nuid": "897363e5-3414-49b0-ab20-cb45051894ac",
     "showTitle": false,
     "tableResultSettingsMap": {},
     "title": ""
    }
   },
   "outputs": [],
   "source": [
    "# Identify numerical features that need scaling (excluding the one-hot encoded ones which are already 0/1)\n",
    "# 'age', 'monthly_watch_hours', 'devices_used', 'customer_support_calls', 'last_active_days_ago'\n",
    "\n",
    "features_to_scale = ['Age', 'Tenure', 'MonthlyCharges', 'TotalCharges']\n",
    "\n",
    "scaler = StandardScaler()\n",
    "X[features_to_scale] = scaler.fit_transform(X[features_to_scale])\n",
    "\n",
    "print(\"\\nFeatures after Scaling (first 5 rows of scaled columns):\")\n",
    "print(X[features_to_scale].head())"
   ]
  },
  {
   "cell_type": "markdown",
   "metadata": {
    "application/vnd.databricks.v1+cell": {
     "cellMetadata": {},
     "inputWidgets": {},
     "nuid": "d14315e2-50d6-47d9-978f-bea9b1dcd984",
     "showTitle": false,
     "tableResultSettingsMap": {},
     "title": ""
    }
   },
   "source": [
    "### Data Split: into a training set and a testing set."
   ]
  },
  {
   "cell_type": "code",
   "execution_count": 0,
   "metadata": {
    "application/vnd.databricks.v1+cell": {
     "cellMetadata": {},
     "inputWidgets": {},
     "nuid": "8ce949e9-92c9-4d72-b2f9-3acdf3277019",
     "showTitle": false,
     "tableResultSettingsMap": {},
     "title": ""
    }
   },
   "outputs": [],
   "source": [
    "X_train, X_test, y_train, y_test = train_test_split(X, y, test_size=0.25, random_state=42, stratify=y)\n",
    "\n",
    "print(f\"\\nTraining set shape (X_train, y_train): {X_train.shape}, {y_train.shape}\")\n",
    "print(f\"Testing set shape (X_test, y_test): {X_test.shape}, {y_test.shape}\")"
   ]
  },
  {
   "cell_type": "markdown",
   "metadata": {
    "application/vnd.databricks.v1+cell": {
     "cellMetadata": {},
     "inputWidgets": {},
     "nuid": "84f0bd36-3d46-450a-b463-cd4b0f2da919",
     "showTitle": false,
     "tableResultSettingsMap": {},
     "title": ""
    }
   },
   "source": [
    "## Model Building and Training"
   ]
  },
  {
   "cell_type": "markdown",
   "metadata": {
    "application/vnd.databricks.v1+cell": {
     "cellMetadata": {},
     "inputWidgets": {},
     "nuid": "35b2e75a-484b-4f71-a46a-724d84e477bb",
     "showTitle": false,
     "tableResultSettingsMap": {},
     "title": ""
    }
   },
   "source": [
    "### Model 1 (Baseline): Training a Logistic Regression model."
   ]
  },
  {
   "cell_type": "code",
   "execution_count": 0,
   "metadata": {
    "application/vnd.databricks.v1+cell": {
     "cellMetadata": {},
     "inputWidgets": {},
     "nuid": "b2ad1b15-779c-43af-a890-0ab63a303740",
     "showTitle": false,
     "tableResultSettingsMap": {},
     "title": ""
    }
   },
   "outputs": [],
   "source": [
    "print(\"\\nTraining Logistic Regression Model...\")\n",
    "\n",
    "logistic_model = LogisticRegression(random_state=42, solver='liblinear') \n",
    "logistic_model.fit(X_train, y_train)\n",
    "\n",
    "print(\"Logistic Regression Model Trained.\")"
   ]
  },
  {
   "cell_type": "markdown",
   "metadata": {
    "application/vnd.databricks.v1+cell": {
     "cellMetadata": {},
     "inputWidgets": {},
     "nuid": "3e96dccf-05ba-4d26-a09e-576f84950b6a",
     "showTitle": false,
     "tableResultSettingsMap": {},
     "title": ""
    }
   },
   "source": [
    "### Model 2 (Advanced): Training a Random Forest Classifier."
   ]
  },
  {
   "cell_type": "code",
   "execution_count": 0,
   "metadata": {
    "application/vnd.databricks.v1+cell": {
     "cellMetadata": {},
     "inputWidgets": {},
     "nuid": "5a4e7843-0a89-4f1c-a5b2-23139f1630d0",
     "showTitle": false,
     "tableResultSettingsMap": {},
     "title": ""
    }
   },
   "outputs": [],
   "source": [
    "print(\"\\nTraining Random Forest Classifier Model...\")\n",
    "\n",
    "random_forest_model = RandomForestClassifier(random_state=42, n_estimators=100) # n_estimators = number of trees\n",
    "random_forest_model.fit(X_train, y_train)\n",
    "\n",
    "print(\"Random Forest Classifier Model Trained.\")"
   ]
  },
  {
   "cell_type": "markdown",
   "metadata": {
    "application/vnd.databricks.v1+cell": {
     "cellMetadata": {},
     "inputWidgets": {},
     "nuid": "3a60d241-527e-4182-aea2-8dea1e85b773",
     "showTitle": false,
     "tableResultSettingsMap": {},
     "title": ""
    }
   },
   "source": [
    "## Models Evaluation - LR & RFC"
   ]
  },
  {
   "cell_type": "markdown",
   "metadata": {
    "application/vnd.databricks.v1+cell": {
     "cellMetadata": {},
     "inputWidgets": {},
     "nuid": "8a335f1d-26d3-495a-a3d5-3a62eab1ed09",
     "showTitle": false,
     "tableResultSettingsMap": {},
     "title": ""
    }
   },
   "source": [
    "###  Making predictions on test data using both trained models."
   ]
  },
  {
   "cell_type": "code",
   "execution_count": 0,
   "metadata": {
    "application/vnd.databricks.v1+cell": {
     "cellMetadata": {},
     "inputWidgets": {},
     "nuid": "f8aaacc6-7e2a-4877-9edb-f7e574556e88",
     "showTitle": false,
     "tableResultSettingsMap": {},
     "title": ""
    }
   },
   "outputs": [],
   "source": [
    "# prediction by logistic regression model\n",
    "y_pred_logistic = logistic_model.predict(X_test)\n",
    "\n",
    "# prediction by random forest model \n",
    "y_pred_rf = random_forest_model.predict(X_test)"
   ]
  },
  {
   "cell_type": "markdown",
   "metadata": {
    "application/vnd.databricks.v1+cell": {
     "cellMetadata": {},
     "inputWidgets": {},
     "nuid": "8bc132d1-3989-47b3-be90-6b4f5f350762",
     "showTitle": false,
     "tableResultSettingsMap": {},
     "title": ""
    }
   },
   "source": [
    "### Calculating Accuracy, Precision, Recall, and F1-Score for each model."
   ]
  },
  {
   "cell_type": "markdown",
   "metadata": {
    "application/vnd.databricks.v1+cell": {
     "cellMetadata": {},
     "inputWidgets": {},
     "nuid": "9a2c8f83-b42e-421c-8a17-7a596aa54101",
     "showTitle": false,
     "tableResultSettingsMap": {},
     "title": ""
    }
   },
   "source": [
    "### Logistic Regression Model Evaluation"
   ]
  },
  {
   "cell_type": "code",
   "execution_count": 0,
   "metadata": {
    "application/vnd.databricks.v1+cell": {
     "cellMetadata": {},
     "inputWidgets": {},
     "nuid": "a6958d15-15a4-47b6-8b71-824245da2d24",
     "showTitle": false,
     "tableResultSettingsMap": {},
     "title": ""
    }
   },
   "outputs": [],
   "source": [
    "print(\"\\n--- Logistic Regression Model Evaluation ---\")\n",
    "\n",
    "accuracy_lr = accuracy_score(y_test, y_pred_logistic)\n",
    "precision_lr = precision_score(y_test, y_pred_logistic,pos_label=\"Yes\")\n",
    "recall_lr = recall_score(y_test, y_pred_logistic,pos_label=\"Yes\")\n",
    "f1_lr = f1_score(y_test, y_pred_logistic,pos_label=\"Yes\")\n",
    "\n",
    "print(f\"Accuracy: {accuracy_lr:.4f}\")\n",
    "print(f\"Precision: {precision_lr:.4f}\")\n",
    "print(f\"Recall: {recall_lr:.4f}\")\n",
    "print(f\"F1-Score: {f1_lr:.4f}\")\n",
    "print(\"\\nConfusion Matrix (Logistic Regression):\")\n",
    "\n",
    "print(confusion_matrix(y_test, y_pred_logistic))"
   ]
  },
  {
   "cell_type": "markdown",
   "metadata": {
    "application/vnd.databricks.v1+cell": {
     "cellMetadata": {},
     "inputWidgets": {},
     "nuid": "e7ebd9b1-00ff-4f5b-9c2c-f0fa3b814f9b",
     "showTitle": false,
     "tableResultSettingsMap": {},
     "title": ""
    }
   },
   "source": [
    "### Random Forest Classifier Model Evaluation"
   ]
  },
  {
   "cell_type": "code",
   "execution_count": 0,
   "metadata": {
    "application/vnd.databricks.v1+cell": {
     "cellMetadata": {},
     "inputWidgets": {},
     "nuid": "6cddda29-21c5-41b0-bbed-f51b46cd3032",
     "showTitle": false,
     "tableResultSettingsMap": {},
     "title": ""
    }
   },
   "outputs": [],
   "source": [
    "print(\"\\n--- Random Forest Classifier Model Evaluation ---\")\n",
    "\n",
    "accuracy_rf = accuracy_score(y_test, y_pred_rf)\n",
    "precision_rf = precision_score(y_test, y_pred_rf,pos_label=\"Yes\")\n",
    "recall_rf = recall_score(y_test, y_pred_rf,pos_label=\"Yes\")\n",
    "f1_rf = f1_score(y_test, y_pred_rf,pos_label=\"Yes\")\n",
    "\n",
    "print(f\"Accuracy: {accuracy_rf:.4f}\")\n",
    "print(f\"Precision: {precision_rf:.4f}\")\n",
    "print(f\"Recall: {recall_rf:.4f}\")\n",
    "\n",
    "print(f\"F1-Score: {f1_rf:.4f}\")\n",
    "print(\"\\nConfusion Matrix (Random Forest):\")\n",
    "print(confusion_matrix(y_test, y_pred_rf))"
   ]
  },
  {
   "cell_type": "markdown",
   "metadata": {
    "application/vnd.databricks.v1+cell": {
     "cellMetadata": {},
     "inputWidgets": {},
     "nuid": "5531ab88-a299-4461-928b-4b3e79f48c5f",
     "showTitle": false,
     "tableResultSettingsMap": {},
     "title": ""
    }
   },
   "source": [
    "#### To identify - which metric is more important for us in the context of the given problem \n",
    "* Is it more costly for Streamify to mistakenly predict a customer will stay (false negative)\n",
    "* or to mistakenly predict a customer will leave (false positive)?\n",
    "\n",
    "In the context of Streamify's customer churn, Below is the cost of different types of errors:\n",
    "  1. False Negative (FN): The model predicts a customer will NOT churn, but they actually DO churn. **Cost**: Streamify loses a customer without intervention. This means lost revenue, potential negative word-of-mouth, and a missed opportunity to retain them (e.g., through targeted promotions or support). This is generally considered a high cost.\n",
    "  2. False Positive (FP): The model predicts a customer WILL churn, but they actually DO NOT churn. Cost: Streamify invests resources (e.g., discounts, special offers, personalized outreach) in a customer who would have stayed anyway. This is a wasted resource but does not directly lead to customer loss.\n",
    "\n",
    "Given these considerations:\n",
    "  **False Negatives (missing actual churners) are generally more costly** for Streamify.\n",
    " **Losing a customer directly impacts revenue and growth**. Streamify wants to identify as many potential churners as possible to intervene.\n",
    " **Recall** is the metric that measures the proportion of actual positive cases (actual churners) that were correctly identified by the model (TP / (TP + FN)).\n",
    "\n",
    "**A high Recall means the model is good at catching most of the customers who are going to churn**.Therefore, **Recall is the most important metric for Streamify in this scenario**.\n",
    "While Precision is also important (to avoid wasting resources on FPs), maximizing Recall ensures Streamify doesn't miss out on opportunities to retain valuable customers.\n",
    "\n",
    "The F1-Score provides a balance between Precision and Recall, which can also be a good overall indicator, especially if there's a slight imbalance."
   ]
  },
  {
   "cell_type": "code",
   "execution_count": 0,
   "metadata": {
    "application/vnd.databricks.v1+cell": {
     "cellMetadata": {},
     "inputWidgets": {},
     "nuid": "e390f6d6-b46c-46bf-823e-63d871e9b6bc",
     "showTitle": false,
     "tableResultSettingsMap": {},
     "title": ""
    }
   },
   "outputs": [],
   "source": [
    "print(\"\\n--- Model Selection Based on Recall ---\")\n",
    "print(f\"Logistic Regression Recall: {recall_lr:.4f}\")\n",
    "print(f\"Random Forest Recall: {recall_rf:.4f}\")"
   ]
  },
  {
   "cell_type": "markdown",
   "metadata": {
    "application/vnd.databricks.v1+cell": {
     "cellMetadata": {},
     "inputWidgets": {},
     "nuid": "a1bcfc69-0075-4a40-9fd8-5262aa8f8ed9",
     "showTitle": false,
     "tableResultSettingsMap": {},
     "title": ""
    }
   },
   "source": [
    "#### Based on Recall, the **Logistic Regression Model** is the better model as it has a higher recall score."
   ]
  },
  {
   "cell_type": "code",
   "execution_count": 0,
   "metadata": {
    "application/vnd.databricks.v1+cell": {
     "cellMetadata": {},
     "inputWidgets": {},
     "nuid": "5ea61924-0680-41ae-b6ba-bf14c8c9a84c",
     "showTitle": false,
     "tableResultSettingsMap": {},
     "title": ""
    }
   },
   "outputs": [],
   "source": [
    "\n",
    "print(\"\\nBased on Recall, the **Logistic Regression Model** is the better model as it has a higher recall score.\")\n",
    "best_model = logistic_model\n",
    "best_model_name = \"Logistic Regression\"\n",
    "best_model_metrics = {\n",
    "    \"Accuracy\": accuracy_lr,\n",
    "    \"Precision\": precision_lr,\n",
    "    \"Recall\": recall_lr,\n",
    "    \"F1-Score\": f1_lr\n",
    "}\n",
    "\n",
    "print(f\"\\nSelected Best Model: {best_model_name}\")\n",
    "print(best_model_metrics)"
   ]
  },
  {
   "cell_type": "markdown",
   "metadata": {
    "application/vnd.databricks.v1+cell": {
     "cellMetadata": {},
     "inputWidgets": {},
     "nuid": "35aec35b-d1a7-435a-9293-c69da985f4ac",
     "showTitle": false,
     "tableResultSettingsMap": {},
     "title": ""
    }
   },
   "source": [
    "## Final Report and Recommendations"
   ]
  },
  {
   "cell_type": "markdown",
   "metadata": {
    "application/vnd.databricks.v1+cell": {
     "cellMetadata": {},
     "inputWidgets": {},
     "nuid": "d521b2fa-b5ff-4313-9c12-c8dedc0430d5",
     "showTitle": false,
     "tableResultSettingsMap": {},
     "title": ""
    }
   },
   "source": [
    "**Feature importance** : Feature importances are typically extracted from tree-based models (like Random Forest).Since we have chosen Logistic Regression as the best model, we cannot directly plot feature importances in the same way.\n",
    "For Logistic Regression, coefficients can indicate feature importance, but they are interpreted differently (impact on log-odds)."
   ]
  },
  {
   "cell_type": "markdown",
   "metadata": {
    "application/vnd.databricks.v1+cell": {
     "cellMetadata": {},
     "inputWidgets": {},
     "nuid": "0c44f9de-1c84-451f-a17f-395795cf2426",
     "showTitle": false,
     "tableResultSettingsMap": {},
     "title": ""
    }
   },
   "source": [
    "### Conclusion: "
   ]
  },
  {
   "cell_type": "markdown",
   "metadata": {
    "application/vnd.databricks.v1+cell": {
     "cellMetadata": {},
     "inputWidgets": {},
     "nuid": "2e517b02-e999-4c58-a50c-3efa74a351c6",
     "showTitle": false,
     "tableResultSettingsMap": {},
     "title": ""
    }
   },
   "source": [
    "This Assignment aimed to predict customer churn for Streamify using a machine learning approach. We performed comprehensive data exploration, preprocessing, model building, and evaluation.\n",
    "\n",
    "Based on our analysis, the **Logistic Regression** is chosen as the best model.\n",
    "\n",
    "The primary reason for this choice was its superior performance in **Recall**, which is identified as the most critical metric for Streamify. Maximizing Recall helps Streamify identify as many potential churners as possible, allowing for timely intervention and customer retention efforts, thereby minimizing revenue loss from unaddressed churn.\n",
    "\n",
    "Performance of the Logistic Regression on the test set:"
   ]
  },
  {
   "cell_type": "code",
   "execution_count": 0,
   "metadata": {
    "application/vnd.databricks.v1+cell": {
     "cellMetadata": {},
     "inputWidgets": {},
     "nuid": "cf1131c7-029b-4962-85bd-1b690f7d604b",
     "showTitle": false,
     "tableResultSettingsMap": {},
     "title": ""
    }
   },
   "outputs": [],
   "source": [
    "best_model_metrics"
   ]
  },
  {
   "cell_type": "markdown",
   "metadata": {
    "application/vnd.databricks.v1+cell": {
     "cellMetadata": {},
     "inputWidgets": {},
     "nuid": "57370e38-29c9-4dfe-a3e0-27ef27cd92b9",
     "showTitle": false,
     "tableResultSettingsMap": {},
     "title": ""
    }
   },
   "source": [
    "## Saving the model as pickel file "
   ]
  },
  {
   "cell_type": "code",
   "execution_count": 0,
   "metadata": {
    "application/vnd.databricks.v1+cell": {
     "cellMetadata": {},
     "inputWidgets": {},
     "nuid": "28154f33-d4ca-4c8e-bb2f-31ae8c617ffb",
     "showTitle": false,
     "tableResultSettingsMap": {},
     "title": ""
    }
   },
   "outputs": [],
   "source": [
    "import joblib\n",
    "\n",
    "# Save the model\n",
    "joblib.dump(logistic_model, \"linear_regression_churn_model.pkl\")"
   ]
  },
  {
   "cell_type": "code",
   "execution_count": 0,
   "metadata": {
    "application/vnd.databricks.v1+cell": {
     "cellMetadata": {},
     "inputWidgets": {},
     "nuid": "ddc30c9f-4fbb-4b07-8729-2bf68aabddfc",
     "showTitle": false,
     "tableResultSettingsMap": {},
     "title": ""
    }
   },
   "outputs": [],
   "source": [
    "X_train"
   ]
  },
  {
   "cell_type": "code",
   "execution_count": 0,
   "metadata": {
    "application/vnd.databricks.v1+cell": {
     "cellMetadata": {},
     "inputWidgets": {},
     "nuid": "8979c39f-3f70-49a9-83fe-3d0a436edef3",
     "showTitle": false,
     "tableResultSettingsMap": {},
     "title": ""
    }
   },
   "outputs": [],
   "source": []
  }
 ],
 "metadata": {
  "application/vnd.databricks.v1+notebook": {
   "computePreferences": null,
   "dashboards": [],
   "environmentMetadata": null,
   "inputWidgetPreferences": null,
   "language": "python",
   "notebookMetadata": {},
   "notebookName": "dmml_MODEL_TRAINING",
   "widgets": {}
  },
  "kernelspec": {
   "display_name": "Python 3 (ipykernel)",
   "language": "python",
   "name": "python3"
  },
  "language_info": {
   "name": "python"
  }
 },
 "nbformat": 4,
 "nbformat_minor": 0
}
